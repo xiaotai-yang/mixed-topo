{
 "cells": [
  {
   "cell_type": "code",
   "id": "63dad47a3ef7b959",
   "metadata": {
    "collapsed": false,
    "ExecuteTime": {
     "end_time": "2025-04-18T03:26:13.207578Z",
     "start_time": "2025-04-18T03:26:11.894647Z"
    }
   },
   "source": [
    "import jax\n",
    "import jax.numpy as jnp\n",
    "from matplotlib.lines import Line2D\n",
    "import matplotlib.pyplot as plt\n",
    "import random\n",
    "import math\n",
    "from itertools import chain\n",
    "import string\n",
    "from functools import partial\n",
    "from jax import config, lax\n",
    "from util import *\n",
    "\n",
    "config.update(\"jax_enable_x64\", True)\n",
    "\n",
    "n = 5\n",
    "setA, setB, setC = plot_regions(n)\n",
    "plaq_ABC, plaq_B, plaq_BC, plaq_AC = plaq_ABC_func(n), plaq_B_func(n), plaq_BC_func(n), plaq_AC_func(n)\n",
    "plaq_ABC_dict = [ dict.fromkeys(row, 0) for row in plaq_ABC ]\n",
    "plaq_B_dict = [dict.fromkeys(row, 0) for row in plaq_B ]\n",
    "plaq_BC_dict = [ dict.fromkeys(row, 0) for row in plaq_BC ]\n",
    "plaq_AC_dict = [ dict.fromkeys(row, 0) for row in plaq_AC ]"
   ],
   "outputs": [
    {
     "data": {
      "text/plain": "<Figure size 700x700 with 1 Axes>",
      "image/png": "[encoded data removed]"
     },
     "metadata": {},
     "output_type": "display_data"
    },
    {
     "name": "stdout",
     "output_type": "stream",
     "text": [
      "setA: {((11, 13), 'V'), ((13, 3), 'H'), ((13, 10), 'H'), ((12, 7), 'V'), ((13, 5), 'H'), ((12, 9), 'V'), ((11, 2), 'H'), ((12, 4), 'V'), ((11, 1), 'H'), ((14, 10), 'V'), ((13, 6), 'H'), ((12, 3), 'V'), ((11, 3), 'H'), ((11, 11), 'V'), ((12, 6), 'V'), ((12, 5), 'V'), ((12, 10), 'H'), ((13, 7), 'V'), ((13, 4), 'H'), ((13, 11), 'H'), ((14, 5), 'H'), ((11, 9), 'V'), ((14, 7), 'H'), ((11, 10), 'V'), ((11, 5), 'H'), ((10, 4), 'V'), ((11, 4), 'H'), ((11, 12), 'V'), ((13, 5), 'V'), ((14, 8), 'H'), ((13, 9), 'H'), ((12, 11), 'H'), ((14, 6), 'H'), ((11, 7), 'H'), ((10, 1), 'V'), ((12, 10), 'V'), ((13, 4), 'V'), ((14, 9), 'H'), ((14, 4), 'H'), ((10, 3), 'V'), ((12, 12), 'V'), ((10, 2), 'V'), ((12, 11), 'V'), ((13, 8), 'V'), ((12, 8), 'H'), ((13, 10), 'V'), ((11, 7), 'V'), ((10, 5), 'V'), ((11, 2), 'V'), ((11, 6), 'H'), ((11, 13), 'H'), ((13, 6), 'V'), ((11, 3), 'V'), ((12, 7), 'H'), ((11, 8), 'H'), ((12, 2), 'H'), ((12, 9), 'H'), ((13, 11), 'V'), ((12, 4), 'H'), ((14, 5), 'V'), ((10, 6), 'V'), ((14, 7), 'V'), ((12, 3), 'H'), ((11, 11), 'H'), ((12, 6), 'H'), ((12, 5), 'H'), ((11, 5), 'V'), ((11, 4), 'V'), ((14, 8), 'V'), ((11, 9), 'H'), ((13, 9), 'V'), ((14, 6), 'V'), ((11, 6), 'V'), ((10, 10), 'V'), ((11, 10), 'H'), ((11, 8), 'V'), ((10, 12), 'V'), ((11, 12), 'H'), ((14, 9), 'V'), ((10, 8), 'V'), ((10, 11), 'V'), ((10, 13), 'V'), ((14, 10), 'H'), ((12, 8), 'V'), ((12, 12), 'H'), ((13, 7), 'H'), ((10, 7), 'V'), ((10, 14), 'V'), ((10, 9), 'V'), ((13, 8), 'H')}\n",
      "setB: {((1, 7), 'H'), ((4, 7), 'V'), ((1, 8), 'V'), ((4, 5), 'H'), ((3, 6), 'V'), ((2, 6), 'V'), ((4, 7), 'H'), ((0, 9), 'V'), ((3, 8), 'V'), ((0, 6), 'V'), ((1, 6), 'V'), ((4, 8), 'V'), ((2, 9), 'V'), ((1, 8), 'H'), ((3, 7), 'V'), ((2, 6), 'H'), ((3, 6), 'H'), ((3, 5), 'H'), ((1, 6), 'H'), ((4, 8), 'H'), ((3, 8), 'H'), ((2, 9), 'H'), ((4, 6), 'V'), ((3, 7), 'H'), ((2, 7), 'V'), ((1, 9), 'V'), ((2, 5), 'H'), ((4, 6), 'H'), ((0, 8), 'V'), ((2, 7), 'H'), ((0, 7), 'V'), ((4, 9), 'V'), ((3, 9), 'V'), ((2, 8), 'V'), ((1, 9), 'H'), ((1, 7), 'V'), ((1, 5), 'H'), ((4, 9), 'H'), ((3, 9), 'H'), ((2, 8), 'H')}\n",
      "setC: {((9, 12), 'H'), ((5, 4), 'V'), ((4, 13), 'V'), ((6, 1), 'V'), ((3, 11), 'H'), ((8, 13), 'V'), ((5, 10), 'H'), ((8, 0), 'H'), ((5, 1), 'V'), ((7, 2), 'H'), ((5, 12), 'H'), ((6, 2), 'V'), ((8, 11), 'V'), ((7, 4), 'H'), ((6, 14), 'V'), ((3, 3), 'V'), ((2, 5), 'V'), ((4, 11), 'V'), ((2, 4), 'V'), ((8, 1), 'H'), ((1, 10), 'V'), ((7, 1), 'V'), ((2, 11), 'H'), ((4, 4), 'H'), ((7, 13), 'V'), ((1, 11), 'V'), ((6, 3), 'H'), ((8, 14), 'V'), ((10, 3), 'H'), ((3, 2), 'V'), ((5, 13), 'H'), ((2, 3), 'V'), ((2, 10), 'V'), ((3, 4), 'V'), ((0, 10), 'V'), ((6, 12), 'H'), ((8, 3), 'H'), ((9, 0), 'H'), ((7, 3), 'H'), ((4, 1), 'V'), ((5, 11), 'V'), ((7, 2), 'V'), ((8, 12), 'V'), ((4, 12), 'H'), ((7, 14), 'V'), ((10, 10), 'H'), ((7, 4), 'V'), ((4, 2), 'V'), ((3, 10), 'H'), ((10, 12), 'H'), ((9, 1), 'H'), ((3, 12), 'H'), ((9, 13), 'H'), ((9, 3), 'H'), ((9, 11), 'V'), ((5, 0), 'H'), ((2, 11), 'V'), ((4, 4), 'V'), ((7, 10), 'H'), ((5, 2), 'H'), ((6, 13), 'H'), ((6, 4), 'V'), ((4, 3), 'H'), ((4, 10), 'H'), ((10, 11), 'H'), ((1, 4), 'H'), ((5, 3), 'H'), ((7, 12), 'H'), ((10, 13), 'H'), ((9, 2), 'H'), ((6, 10), 'H'), ((6, 0), 'H'), ((5, 14), 'V'), ((9, 14), 'H'), ((9, 12), 'V'), ((4, 5), 'V'), ((3, 11), 'V'), ((8, 2), 'H'), ((9, 13), 'V'), ((8, 4), 'H'), ((5, 4), 'H'), ((5, 12), 'V'), ((3, 5), 'V'), ((6, 11), 'H'), ((6, 1), 'H'), ((4, 3), 'V'), ((8, 1), 'V'), ((8, 13), 'H'), ((1, 4), 'V'), ((5, 1), 'H'), ((7, 12), 'V'), ((0, 5), 'V'), ((6, 3), 'V'), ((8, 11), 'H'), ((9, 14), 'V'), ((6, 14), 'H'), ((7, 11), 'H'), ((3, 3), 'H'), ((9, 4), 'H'), ((4, 11), 'H'), ((2, 4), 'H'), ((2, 12), 'V'), ((5, 13), 'V'), ((1, 10), 'H'), ((6, 12), 'V'), ((7, 13), 'H'), ((8, 3), 'V'), ((8, 2), 'V'), ((7, 3), 'V'), ((8, 4), 'V'), ((4, 12), 'V'), ((10, 14), 'H'), ((3, 2), 'H'), ((3, 10), 'V'), ((2, 3), 'H'), ((6, 11), 'V'), ((2, 10), 'H'), ((4, 14), 'V'), ((9, 1), 'V'), ((10, 4), 'H'), ((3, 4), 'H'), ((3, 12), 'V'), ((9, 3), 'V'), ((8, 10), 'H'), ((4, 1), 'H'), ((5, 11), 'H'), ((5, 2), 'V'), ((8, 12), 'H'), ((4, 13), 'H'), ((6, 13), 'V'), ((7, 14), 'H'), ((10, 1), 'H'), ((3, 13), 'V'), ((4, 2), 'H'), ((4, 10), 'V'), ((7, 11), 'V'), ((10, 0), 'H'), ((9, 4), 'V'), ((9, 11), 'H'), ((5, 3), 'V'), ((9, 2), 'V'), ((6, 2), 'H'), ((6, 4), 'H'), ((1, 5), 'V'), ((7, 1), 'H'), ((10, 2), 'H'), ((7, 0), 'H'), ((9, 10), 'H'), ((8, 14), 'H'), ((5, 14), 'H')}\n"
     ]
    }
   ],
   "execution_count": 1
  },
  {
   "cell_type": "code",
   "outputs": [],
   "source": [
    "\n",
    "def flip_one_free(plaq_zero):\n",
    "    # if plaq_zero is a dict-of-dicts:\n",
    "    plaq = plaq_zero\n",
    "    i = random.choice([i for i in range (len(plaq_zero))])\n",
    "    # if it’s a list-of-dicts, you’d do:\n",
    "    # i = random.randrange(len(plaq_zero))\n",
    "    \n",
    "    inner_keys = list(plaq_zero[i].keys())\n",
    "    k = random.choice(inner_keys)\n",
    "    \n",
    "    # flip 0↔1\n",
    "    plaq[i][k] = 1 - plaq_zero[i][k]\n",
    "    \n",
    "    return plaq\n",
    "\n",
    "def is_on_hole_boundary(coord, n, kind=\"ABC\"):\n",
    "    \"\"\"\n",
    "    coord:  (r, c)\n",
    "    n:      lattice parameter\n",
    "    kind:   either \"ABC\" or \"AB\"\n",
    "    returns True if coord lies on the forbidden ring\n",
    "    for the given kind of plaquette.\n",
    "    \"\"\"\n",
    "    r, c = coord\n",
    "\n",
    "    # ---- these three edges are common to both AB and ABC ----\n",
    "    # right edge       c = 2*n,  r in [n .. 2*n-1]\n",
    "    # left edge        c = n-1,  r in [n .. 2*n-1]\n",
    "    # bottom edge      r = 2*n, c in [n+1 .. 2*n-1]\n",
    "    if (n <= r <= 2*n-1 and c == 2*n) or \\\n",
    "       (n <= r <= 2*n-1 and c == n-1) or \\\n",
    "       (r == 2*n   and n+1 <= c <= 2*n-1):\n",
    "        return True\n",
    "\n",
    "    # ---- the only difference is the “top” segment ----\n",
    "    if kind.upper() == \"ABC\":\n",
    "        # single horizontal strip at r = n-1\n",
    "        return (r == n-1 and n <= c <= 2*n-1)\n",
    "    else:\n",
    "        # two vertical strips at c = n or c = 2*n-1\n",
    "        # for r = 1 .. n-1\n",
    "        return (1 <= r <= n-1 and (c == n or c == 2*n-1))\n",
    "\n",
    "\n",
    "def flip_one(plaq_zero, n, kind=\"ABC\"):\n",
    "    \"\"\"\n",
    "    Randomly choose (i, coord) in plaq_zero; if coord is NOT on\n",
    "    the forbidden hole‑boundary (of the given kind), flip it.\n",
    "    \"\"\"\n",
    "    plaq = plaq_zero\n",
    "    while True:\n",
    "        i = random.choice([i for i in range (len(plaq_zero))])\n",
    "        choices = list(plaq_zero[i].keys())\n",
    "        k = random.choice(choices)\n",
    "        if not is_on_hole_boundary(k, n, kind):\n",
    "            plaq[i][k] = 1 - plaq_zero[i][k]\n",
    "            return plaq\n"
   ],
   "metadata": {
    "collapsed": false,
    "ExecuteTime": {
     "end_time": "2025-04-18T03:29:45.501879Z",
     "start_time": "2025-04-18T03:29:45.487932Z"
    }
   },
   "id": "6c7753e2ccca6ef",
   "execution_count": 29
  },
  {
   "cell_type": "code",
   "outputs": [
    {
     "data": {
      "text/plain": "[{(9, 1): 0, (9, 2): 0, (9, 3): 0},\n {(8, 1): 0, (8, 2): 0, (8, 3): 0},\n {(7, 1): 1, (7, 2): 0, (7, 3): 0},\n {(6, 1): 0, (6, 2): 0, (6, 3): 0},\n {(5, 1): 0, (5, 2): 0, (5, 3): 0},\n {(4, 1): 0, (4, 2): 0, (4, 3): 0, (4, 4): 0},\n {(3, 2): 0, (3, 3): 0, (3, 4): 0},\n {(2, 3): 0, (2, 4): 0},\n {(1, 4): 0},\n {(1, 5): 0, (2, 5): 0, (3, 5): 0},\n {(1, 6): 0, (2, 6): 0, (3, 6): 0},\n {(1, 7): 0, (2, 7): 0, (3, 7): 0},\n {(1, 8): 0, (2, 8): 0, (3, 8): 0},\n {(1, 9): 0, (2, 9): 0, (3, 9): 0},\n {(1, 10): 0, (2, 10): 0, (3, 10): 0, (4, 10): 0},\n {(2, 11): 0, (3, 11): 0, (4, 11): 0},\n {(3, 12): 0, (4, 12): 0},\n {(4, 13): 0},\n {(5, 13): 0, (5, 12): 0, (5, 11): 0},\n {(6, 13): 0, (6, 12): 0, (6, 11): 0},\n {(7, 13): 0, (7, 12): 0, (7, 11): 0},\n {(8, 13): 0, (8, 12): 0, (8, 11): 0},\n {(9, 13): 0, (9, 12): 1, (9, 11): 0}]"
     },
     "execution_count": 30,
     "metadata": {},
     "output_type": "execute_result"
    }
   ],
   "source": [
    "plaq_BC_dict"
   ],
   "metadata": {
    "collapsed": true,
    "ExecuteTime": {
     "end_time": "2025-04-18T03:29:45.759962Z",
     "start_time": "2025-04-18T03:29:45.749609Z"
    }
   },
   "id": "initial_id",
   "execution_count": 30
  },
  {
   "cell_type": "code",
   "outputs": [
    {
     "data": {
      "text/plain": "[{(9, 1): 0, (9, 2): 0, (9, 3): 0},\n {(8, 1): 0, (8, 2): 0, (8, 3): 0},\n {(7, 1): 1, (7, 2): 0, (7, 3): 0},\n {(6, 1): 0, (6, 2): 0, (6, 3): 0},\n {(5, 1): 0, (5, 2): 0, (5, 3): 0},\n {(4, 1): 0, (4, 2): 0, (4, 3): 0, (4, 4): 0},\n {(3, 2): 0, (3, 3): 0, (3, 4): 0},\n {(2, 3): 0, (2, 4): 0},\n {(1, 4): 0},\n {(1, 5): 0, (2, 5): 0, (3, 5): 0},\n {(1, 6): 0, (2, 6): 0, (3, 6): 0},\n {(1, 7): 0, (2, 7): 0, (3, 7): 0},\n {(1, 8): 0, (2, 8): 0, (3, 8): 0},\n {(1, 9): 1, (2, 9): 0, (3, 9): 0},\n {(1, 10): 0, (2, 10): 0, (3, 10): 0, (4, 10): 0},\n {(2, 11): 0, (3, 11): 0, (4, 11): 0},\n {(3, 12): 0, (4, 12): 0},\n {(4, 13): 0},\n {(5, 13): 0, (5, 12): 0, (5, 11): 0},\n {(6, 13): 0, (6, 12): 0, (6, 11): 0},\n {(7, 13): 0, (7, 12): 0, (7, 11): 0},\n {(8, 13): 0, (8, 12): 0, (8, 11): 0},\n {(9, 13): 0, (9, 12): 1, (9, 11): 0}]"
     },
     "execution_count": 31,
     "metadata": {},
     "output_type": "execute_result"
    }
   ],
   "source": [
    "flip_one_free(plaq_BC_dict)"
   ],
   "metadata": {
    "collapsed": false,
    "ExecuteTime": {
     "end_time": "2025-04-18T03:29:45.975321Z",
     "start_time": "2025-04-18T03:29:45.956839Z"
    }
   },
   "id": "9d734972cb155c3e",
   "execution_count": 31
  },
  {
   "cell_type": "code",
   "outputs": [],
   "source": [
    "def initial_top_ABC(n, plaq_dict, plaq, p):\n",
    "    \"\"\"\n",
    "    Build a list of n tensors corresponding to the top row.\n",
    "    The leftmost and rightmost are boundary incomplete (shape (2,2)),\n",
    "    while the ones in between are boundary full (shape (2,2,2)).\n",
    "    \"\"\"\n",
    "    tensor_list = []\n",
    "    \n",
    "    m = plaq_dict[plaq[0]]\n",
    "    tensor_list.append(incomplete_tensor(m, p))  # left boundary, shape (2,2)\n",
    "    for i in range(n - 3):\n",
    "        m = plaq_dict[plaq[i+1]]\n",
    "        tensor_list.append(full_tensor(m, p))  # middle plaquettes, shape (2,2,2)\n",
    "    m = plaq_dict[plaq[n-2]]\n",
    "    tensor_list.append(inner_edge_tensor(m, p))  # right boundary, shape (2,2)\n",
    "    return tensor_list\n",
    "\n",
    "def seq_ABC(n, plaq_dict, plaq, p):\n",
    "    tensor_list = []\n",
    "    \n",
    "    m = plaq_dict[plaq[0]]\n",
    "    tensor_list.append(incomplete_tensor(m, p))  # left boundary, shape (2,2,2)\n",
    "    for i in range(n - 3):\n",
    "        m = plaq_dict[plaq[i+1]]\n",
    "        tensor_list.append(full_tensor(m, p))  # middle plaquettes, shape (2,2,2,2)\n",
    "    m = plaq_dict[plaq[n-2]]\n",
    "    tensor_list.append(inner_edge_tensor(m, p))  # right boundary, shape (2,2,2)\n",
    "    return tensor_list\n",
    "\n",
    "#@partial(jax.jit, static_argnums=(0,))\n",
    "def process_initial_ABC(n, plaq_dict, plaq, p):\n",
    "    \"\"\"\n",
    "    Contract a list of n top-boundary tensors from left to right.\n",
    "    The free vertical indices remain, and internal (horizontal) indices are contracted.\n",
    "    \"\"\"\n",
    "    # Define labels for the indices.\n",
    "    label = string.ascii_letters\n",
    "    # Initialize the tensor list.\n",
    "    tensor_list = initial_top_ABC(n, plaq_dict, plaq, p)\n",
    "    '''\n",
    "     0 - - n\n",
    "        |\n",
    "       2*n\n",
    "       to \n",
    "     0 - - n\n",
    "     1 - - n+1\n",
    "        .\n",
    "        .\n",
    "        .\n",
    "     n-1 -- 2*n-1   \n",
    "    '''\n",
    "    # Left boundary tensor: shape (2,2) → assign indices: [bottom_label[0], virtual_label[0]]\n",
    "    top_term = label[0]+label[n-1]+label[2*n-2] \n",
    "    top_tensor = tensor_list[0]\n",
    "    # Middle tensors (i = 2,..., n-1): shape (2,2,2,2)\n",
    "    for i in range(1, n - 2):\n",
    "        term = label[2*n-2] + label[i] + label[n + i - 1] + label[2*n - 1]\n",
    "        output_subscript = label[:i+1] + label[n-1:n+i] + label[2*n-1]\n",
    "        einsum_subscript = top_term + \",\" + term + \"->\" + output_subscript\n",
    "        top_tensor = jnp.einsum(einsum_subscript, top_tensor, tensor_list[i])\n",
    "        top_term = label[:i+1] + label[n-1:n+i] + label[2*n-2]\n",
    "\n",
    "    # Rightmost tensor: shape (2,2,2)\n",
    "    term = label[n - 2] + label[2*n-2] + label[2*n - 3]\n",
    "    output_subscript = label[:2*n-2]\n",
    "    einsum_subscript = top_term + \",\" + term + \"->\" + output_subscript\n",
    "    top_tensor = jnp.einsum(einsum_subscript, top_tensor, tensor_list[n - 2])\n",
    "\n",
    "    return top_tensor\n",
    "\n",
    "#@partial(jax.jit, static_argnums=(0,))\n",
    "def process_column_ABC(n, plaq_dict, plaq, p, top_tensor):\n",
    "    \"\"\"\n",
    "    Contract the list of n bulk tensors with the top tensor from left to right.\n",
    "         _ 2n+1\n",
    "        |\n",
    "        2n\n",
    "       -n+1\n",
    "    \"\"\"\n",
    "    label = string.ascii_letters\n",
    "    tensor_list = seq_ABC(n, plaq_dict, plaq, p)\n",
    "    top_terms = label[:2*n-2]\n",
    "    term = label[n-1]  + label[2*n-2] + label[2*n - 1]\n",
    "    output_subscript = label[:n-1]+ label[2*n-1] + label[2*n-2] + label[n:2*n-2] \n",
    "    einsum_subscript = top_terms + \",\" + term + \"->\" + output_subscript\n",
    "    \n",
    "    top_tensor = jnp.einsum(einsum_subscript, top_tensor, tensor_list[0])\n",
    "    top_terms = label[:n] + label[2*n-2]+ label[n:2*n-2]\n",
    "\n",
    "    for i in range(1, n - 2):\n",
    "        term = label[n+i-1] + label[2*n-2] + label[2*n - 1] + label[2*n]\n",
    "        output_subscript = label[:n+i-1] + label[2*n - 1] + label[2*n - 2]  + label[n+i:2*n-2]\n",
    "        einsum_subscript = top_terms + \",\" + term + \"->\" + output_subscript\n",
    "        top_tensor = jnp.einsum(einsum_subscript, top_tensor, tensor_list[i])\n",
    "        top_terms = label[:n+i] + label[2*n-2] + label[n+i:2*n-2]\n",
    "    term = label[2*n - 3] + label[2*n-2] + label[2*n - 1]\n",
    "    output_subscript = label[:2*n-3] + label[2*n - 1]\n",
    "    einsum_subscript = top_terms + \",\" + term + \"->\" + output_subscript\n",
    "    final_tensor = jnp.einsum(einsum_subscript, top_tensor, tensor_list[n - 2])\n",
    "\n",
    "    return final_tensor\n",
    "\n",
    "#@partial(jax.jit, static_argnums=(0,))\n",
    "def process_ladder_ABC(n, plaq_dict, plaq, p, initial_tensor):\n",
    "    \"\"\"\n",
    "    Perform a ladder contraction over n tensors.\n",
    "        | (2n)\n",
    "      - (n+1)\n",
    "      - (n+2)\n",
    "        to\n",
    "        \n",
    "        - (2n+1\n",
    "        |(2n+2)\n",
    "       -(n+2)    \n",
    "    full tensor is labelled as \n",
    "       2\n",
    "    1    3 \n",
    "      4\n",
    "    \"\"\"\n",
    "    label = string.ascii_letters\n",
    "    tensor = initial_tensor\n",
    "    \n",
    "    for i in range(n - 2):\n",
    "        term1 = label[:2*n-2]\n",
    "        term2 = label[n-1] + label[2*n-2]\n",
    "        output_subscript = label[:n-1]+label[2*n-2] + label[n:2*n-2]\n",
    "        einsum_subscript = term1 + \",\" + term2 + \"->\" + output_subscript\n",
    "        tensor = jnp.einsum(einsum_subscript, tensor, corner_tensor(plaq_dict[i][plaq[i][0]], p))\n",
    "        \n",
    "        for j in range(1, n - i - 1):\n",
    "            term2 = label[n + j - 1] + label[2*n-2] + label[2*n - 1] + label[2*n]\n",
    "            output_subscript = label[:n+j-2] + label[2*n - 1] + label [2*n] + label[n + j : 2*n-2]\n",
    "            einsum_str = term1 + \",\" + term2 + \"->\" + output_subscript\n",
    "            tensor = jnp.einsum(einsum_str, tensor, full_tensor(plaq_dict[i][plaq[i][j]], p))\n",
    "            term1 = label[:n+j-1] + label[2*n-2] + label[n+j:2*n-2]\n",
    "    term1 = label[:2*n-2]\n",
    "    corner = corner_tensor(plaq_dict[n-2][plaq[n-2][0]], p)\n",
    "    term2 = label[n-1] + label[2*n-2]\n",
    "    output_subscript = label[:n-1] + label[n:2*n - 1]\n",
    "    einsum_str = term1 + \",\" + term2 + \"->\" + output_subscript\n",
    "    tensor = jnp.einsum(einsum_str, tensor, corner)\n",
    "\n",
    "    return tensor"
   ],
   "metadata": {
    "collapsed": false,
    "ExecuteTime": {
     "end_time": "2025-04-18T03:29:46.207744Z",
     "start_time": "2025-04-18T03:29:46.176985Z"
    }
   },
   "id": "e40f14e99afb5ea1",
   "execution_count": 32
  },
  {
   "cell_type": "code",
   "outputs": [
    {
     "data": {
      "text/plain": "[{(9, 1): 0, (9, 2): 0, (9, 3): 0},\n {(8, 1): 0, (8, 2): 0, (8, 3): 0},\n {(7, 1): 1, (7, 2): 0, (7, 3): 0},\n {(6, 1): 0, (6, 2): 0, (6, 3): 0},\n {(5, 1): 0, (5, 2): 0, (5, 3): 0},\n {(4, 1): 0, (4, 2): 0, (4, 3): 0, (4, 4): 0},\n {(3, 2): 0, (3, 3): 0, (3, 4): 0},\n {(2, 3): 0, (2, 4): 0},\n {(1, 4): 0},\n {(1, 5): 0, (2, 5): 0, (3, 5): 0},\n {(1, 6): 0, (2, 6): 0, (3, 6): 0},\n {(1, 7): 0, (2, 7): 0, (3, 7): 0},\n {(1, 8): 0, (2, 8): 0, (3, 8): 0},\n {(1, 9): 1, (2, 9): 0, (3, 9): 0},\n {(1, 10): 0, (2, 10): 0, (3, 10): 0, (4, 10): 0},\n {(2, 11): 0, (3, 11): 0, (4, 11): 0},\n {(3, 12): 0, (4, 12): 0},\n {(4, 13): 0},\n {(5, 13): 0, (5, 12): 0, (5, 11): 0},\n {(6, 13): 0, (6, 12): 0, (6, 11): 0},\n {(7, 13): 0, (7, 12): 0, (7, 11): 0},\n {(8, 13): 0, (8, 12): 0, (8, 11): 0},\n {(9, 13): 0, (9, 12): 1, (9, 11): 0}]"
     },
     "execution_count": 33,
     "metadata": {},
     "output_type": "execute_result"
    }
   ],
   "source": [
    "plaq_BC_dict"
   ],
   "metadata": {
    "collapsed": false,
    "ExecuteTime": {
     "end_time": "2025-04-18T03:29:46.433179Z",
     "start_time": "2025-04-18T03:29:46.414234Z"
    }
   },
   "id": "bc60d0fc1ab6bacd",
   "execution_count": 33
  },
  {
   "cell_type": "code",
   "outputs": [],
   "source": [
    "def initial_top_BC(n, plaq_dict, plaq, p):\n",
    "    \"\"\"\n",
    "    Build a list of n tensors corresponding to the top row.\n",
    "    The leftmost and rightmost are boundary incomplete (shape (2,2)),\n",
    "    while the ones in between are boundary full (shape (2,2,2)).\n",
    "    \"\"\"\n",
    "    tensor_list = []\n",
    "    \n",
    "    m = plaq_dict[plaq[0]]\n",
    "    tensor_list.append(corner_tensor(m, p))  # left boundary, shape (2,2)\n",
    "    for i in range(n - 4):\n",
    "        m = plaq_dict[plaq[i+1]]\n",
    "        tensor_list.append(incomplete_tensor(m, p))  # middle plaquettes, shape (2,2,2)\n",
    "    m = plaq_dict[plaq[n-3]]\n",
    "    tensor_list.append(corner_tensor(m, p))  # right boundary, shape (2,2)\n",
    "    return tensor_list\n",
    "\n",
    "def seq_BC(n, plaq_dict, plaq, p):\n",
    "    tensor_list = []\n",
    "    \n",
    "    m = plaq_dict[plaq[0]]\n",
    "    tensor_list.append(incomplete_tensor(m, p))  # left boundary, shape (2,2)\n",
    "    for i in range(n - 4):\n",
    "        m = plaq_dict[plaq[i+1]]\n",
    "        tensor_list.append(full_tensor(m, p))  # middle plaquettes, shape (2,2,2)\n",
    "    m = plaq_dict[plaq[n-3]]\n",
    "    tensor_list.append(incomplete_tensor(m, p))  # right boundary, shape (2,2)\n",
    "    return tensor_list\n",
    "\n",
    "#@partial(jax.jit, static_argnums=(0,))\n",
    "def process_initial_BC(n, plaq_dict, plaq, p):\n",
    "    \"\"\"\n",
    "    Contract a list of n top-boundary tensors from left to right.\n",
    "    The free vertical indices remain, and internal (horizontal) indices are contracted.\n",
    "    \"\"\"\n",
    "    # Define labels for the indices.\n",
    "    label = string.ascii_letters\n",
    "    # Initialize the tensor list.\n",
    "    tensor_list = initial_top_BC(n, plaq_dict, plaq, p)\n",
    "\n",
    "    # Left boundary tensor: shape (2,2) → assign indices: [bottom_label[0], virtual_label[0]]\n",
    "    top_term = label[0]+label[n - 2] \n",
    "    top_tensor = tensor_list[0]\n",
    "    # Middle tensors (i = 2,..., n-1): shape (2,2,2,2)\n",
    "    for i in range(1, n - 3):\n",
    "        term = label[n - 2] + label[i] + label[n - 1]\n",
    "        output_subscript = label[:i+1] + label[n - 1]\n",
    "        einsum_subscript = top_term + \",\" + term + \"->\" + output_subscript\n",
    "        top_tensor = jnp.einsum(einsum_subscript, top_tensor, tensor_list[i])\n",
    "        top_term = label[:i+1] + label[n - 2]\n",
    "\n",
    "    # Rightmost tensor: shape (2,2,2)\n",
    "    term = label[n - 2] + label[n - 3] \n",
    "    output_subscript = label[:n-2]\n",
    "    einsum_subscript = top_term + \",\" + term + \"->\" + output_subscript\n",
    "    top_tensor = jnp.einsum(einsum_subscript, top_tensor, tensor_list[n - 3])\n",
    "\n",
    "    return top_tensor\n",
    "\n",
    "def process_column_BC(n, plaq_dict, plaq, p, tensor):\n",
    "    \"\"\"\n",
    "    Process a column of tensors in the lattice.\n",
    "    \"\"\"\n",
    "    label = string.ascii_letters\n",
    "    tensor_list = seq_BC(n, plaq_dict, plaq, p)\n",
    "    tensor1 = tensor\n",
    "    \n",
    "    term1 = label[:(n-2)]\n",
    "    term2 = label[0] + label[n-2] + label[n-1]\n",
    "    output_str = label[n-1]+label[n-2]+label[1:n-2] \n",
    "    einsum_str = term1 + \",\" + term2 + \"->\" + output_str\n",
    "    tensor1 = jnp.einsum(einsum_str, tensor1, tensor_list[0])\n",
    "    term1 = label[0] + label[n-2] + label[1:n-2]\n",
    "    for j in range(1, n-3):\n",
    "        term2 = label[j] + label[(n-2)] + label[n-1] + label[n]\n",
    "        output_str = label[:j] + label[n-1] + label[n] + label[(j+1):(n-2)]\n",
    "        einsum_str = term1 + \",\" + term2 + \"->\" + output_str\n",
    "        tensor1 = jnp.einsum(einsum_str, tensor1, tensor_list[j])\n",
    "        term1 = label[:j+1] + label[(n-2)] + label[(j+1):(n-2)]\n",
    "\n",
    "    term2 = label[n-3]+label[(n-2)] + label[(n-1)] \n",
    "    output_str = label[:(n-3)] + label[n-1]\n",
    "    einsum_str = term1 + \",\" + term2 + \"->\" + output_str\n",
    "    tensor1 = jnp.einsum(einsum_str, tensor1, tensor_list[n-3])\n",
    "    return tensor1\n",
    "    \n",
    "def process_ladder_BC(n, plaq_dict, plaq, p, tensor):\n",
    "    label = string.ascii_letters\n",
    "    for i in range(n - 2):\n",
    "        term1 = label[:(n-2)]\n",
    "        term2 = label[0] + label[(n-2)]\n",
    "        output_subscript = label[n-2] + label[1:n-2]\n",
    "        einsum_subscript = term1 + \",\" + term2 + \"->\" + output_subscript\n",
    "        tensor = jnp.einsum(einsum_subscript, tensor, corner_tensor(plaq_dict[i][plaq[i][0]], p))\n",
    "        \n",
    "        for j in range(1, n - i - 2):\n",
    "            term2 = label[j] + label[(n-2)] + label[n-1] + label[n]\n",
    "            output_subscript = label[:j-1] + label[n-1] + label [n] + label[(j+1):(n-2)]\n",
    "            einsum_str = term1 + \",\" + term2 + \"->\" + output_subscript\n",
    "            tensor = jnp.einsum(einsum_str, tensor, full_tensor(plaq_dict[i][plaq[i][j]], p))\n",
    "            term1 = label[:j] + label[(n-2)] + label[j+1:(n-2)]\n",
    "            \n",
    "        if i == 0:\n",
    "            term2 = label[n-2] + label[n-3]\n",
    "            output_subscript = label[:(n-2)]\n",
    "            einsum_str = term1 + \",\" + term2 + \"->\" + output_subscript\n",
    "            tensor = jnp.einsum(einsum_str, tensor, corner_tensor(plaq_dict[i][plaq[i][n-2]], p))\n",
    "            term1 = label[:(n-2)]\n",
    "        else:\n",
    "            term2 = label[j+1]+label[(n-2)]+label[n-1]+label[n]\n",
    "            output_subscript = label[:j] + label[n-1] + label [n] + label[j+2:n-2]\n",
    "            einsum_str = term1 + \",\" + term2 + \"->\" + output_subscript\n",
    "            tensor = jnp.einsum(einsum_str, tensor, full_tensor(plaq_dict[i][plaq[i][n-i-2]], p))\n",
    "            term1 = label[:(n-2)]\n",
    "\n",
    "    term2 = label[0] + label[(n-2)]\n",
    "    output_subscript = label[n-2]+label[1:(n-2)]\n",
    "    einsum_str = term1 + \",\" + term2 + \"->\" + output_subscript\n",
    "    tensor = jnp.einsum(einsum_str, tensor, corner_tensor(plaq_dict[n-2][plaq[n-2][0]], p))\n",
    "\n",
    "    return tensor"
   ],
   "metadata": {
    "collapsed": false,
    "ExecuteTime": {
     "end_time": "2025-04-18T03:29:46.714448Z",
     "start_time": "2025-04-18T03:29:46.680178Z"
    }
   },
   "id": "86d2609092603ed2",
   "execution_count": 34
  },
  {
   "cell_type": "code",
   "outputs": [
    {
     "data": {
      "text/plain": "[[(1, 9), (2, 9), (3, 9), (4, 9)],\n [(1, 10), (2, 10), (3, 10), (4, 10)],\n [(2, 11), (3, 11), (4, 11)],\n [(3, 12), (4, 12)],\n [(4, 13)],\n [(5, 13), (5, 12), (5, 11), (5, 10)],\n [(6, 13), (6, 12), (6, 11), (6, 10)],\n [(7, 13), (7, 12), (7, 11), (7, 10)],\n [(8, 13), (8, 12), (8, 11), (8, 10)],\n [(9, 13), (9, 12), (9, 11), (9, 10)],\n [(10, 13), (10, 12), (10, 11), (10, 10)],\n [(11, 12), (11, 11), (11, 10)],\n [(12, 11), (12, 10)],\n [(13, 10)],\n [(13, 9), (12, 9), (11, 9), (10, 9)],\n [(13, 8), (12, 8), (11, 8), (10, 8)],\n [(13, 7), (12, 7), (11, 7), (10, 7)],\n [(13, 6), (12, 6), (11, 6), (10, 6)],\n [(13, 5), (12, 5), (11, 5), (10, 5)],\n [(13, 4), (12, 4), (11, 4), (10, 4)],\n [(12, 3), (11, 3), (10, 3)],\n [(11, 2), (10, 2)],\n [(10, 1)],\n [(9, 1), (9, 2), (9, 3), (9, 4)],\n [(8, 1), (8, 2), (8, 3), (8, 4)],\n [(7, 1), (7, 2), (7, 3), (7, 4)],\n [(6, 1), (6, 2), (6, 3), (6, 4)],\n [(5, 1), (5, 2), (5, 3), (5, 4)],\n [(4, 1), (4, 2), (4, 3), (4, 4)],\n [(3, 2), (3, 3), (3, 4)],\n [(2, 3), (2, 4)],\n [(1, 4)],\n [(1, 5), (2, 5), (3, 5), (4, 5)]]"
     },
     "execution_count": 35,
     "metadata": {},
     "output_type": "execute_result"
    }
   ],
   "source": [
    "plaq_AC"
   ],
   "metadata": {
    "collapsed": false,
    "ExecuteTime": {
     "end_time": "2025-04-18T03:29:47.181608Z",
     "start_time": "2025-04-18T03:29:47.172746Z"
    }
   },
   "id": "3538233200348c91",
   "execution_count": 35
  },
  {
   "cell_type": "code",
   "outputs": [],
   "source": [
    "def initial_top_AC(n, plaq_dict, plaq, p):\n",
    "    \"\"\"\n",
    "    Build a list of n tensors corresponding to the top row.\n",
    "    The leftmost and rightmost are boundary incomplete (shape (2,2)),\n",
    "    while the ones in between are boundary full (shape (2,2,2)).\n",
    "    \"\"\"\n",
    "    tensor_list = []\n",
    "    \n",
    "    m = plaq_dict[plaq[0]]\n",
    "    tensor_list.append(inner_corner_tensor(m, p))  # left boundary, shape (2,2)\n",
    "    for i in range(n - 3):\n",
    "        m = plaq_dict[plaq[i+1]]\n",
    "        tensor_list.append(inner_edge_tensor(m, p))  # middle plaquettes, shape (2,2,2)\n",
    "    m = plaq_dict[plaq[n-2]]\n",
    "    tensor_list.append(inner_corner_tensor(m, p))  # right boundary, shape (2,2)\n",
    "    return tensor_list\n",
    "\n",
    "def seq_AC(n, plaq_dict, plaq, p):\n",
    "    tensor_list = []\n",
    "    \n",
    "    m = plaq_dict[plaq[0]]\n",
    "    tensor_list.append(incomplete_tensor(m, p))  # left boundary, shape (2,2,2)\n",
    "    for i in range(n - 3):\n",
    "        m = plaq_dict[plaq[i+1]]\n",
    "        tensor_list.append(full_tensor(m, p))  # middle plaquettes, shape (2,2,2,2)\n",
    "    m = plaq_dict[plaq[n-2]]\n",
    "    tensor_list.append(inner_edge_tensor(m, p))  # right boundary, shape (2,2,2)\n",
    "    return tensor_list\n",
    "\n",
    "#@partial(jax.jit, static_argnums=(0,))\n",
    "def process_initial_AC(n, plaq_dict, plaq, p):\n",
    "    \"\"\"\n",
    "    Contract a list of n top-boundary tensors from left to right.\n",
    "    The free vertical indices remain, and internal (horizontal) indices are contracted.\n",
    "    \"\"\"\n",
    "    # Define labels for the indices.\n",
    "    label = string.ascii_letters\n",
    "    # Initialize the tensor list.\n",
    "    tensor_list = initial_top_AC(n, plaq_dict, plaq, p)\n",
    "\n",
    "    # Left boundary tensor: shape (2,2) → assign indices: [bottom_label[0], virtual_label[0]]\n",
    "    top_term = label[0]+label[n - 1] \n",
    "    top_tensor = tensor_list[0]\n",
    "    # Middle tensors (i = 2,..., n-1): shape (2,2,2,2)\n",
    "    for i in range(1, n - 2):\n",
    "        term = label[n - 1] + label[i] + label[n]\n",
    "        output_subscript = label[:i+1] + label[n]\n",
    "        einsum_subscript = top_term + \",\" + term + \"->\" + output_subscript\n",
    "        top_tensor = jnp.einsum(einsum_subscript, top_tensor, tensor_list[i])\n",
    "        top_term = label[:i+1] + label[n - 1]\n",
    "\n",
    "    # Rightmost tensor: shape (2,2,2)\n",
    "    term = label[n - 1] + label[n - 2] \n",
    "    output_subscript = label[:n-1]\n",
    "    einsum_subscript = top_term + \",\" + term + \"->\" + output_subscript\n",
    "    top_tensor = jnp.einsum(einsum_subscript, top_tensor, tensor_list[n - 2])\n",
    "\n",
    "    return top_tensor\n",
    "\n",
    "def process_column_AC(n, plaq_dict, plaq, p, tensor):\n",
    "    \"\"\"\n",
    "    Process a column of tensors in the lattice.\n",
    "    \"\"\"\n",
    "    label = string.ascii_letters\n",
    "    tensor_list = seq_AC(n, plaq_dict, plaq, p)\n",
    "    tensor1 = tensor\n",
    "    \n",
    "    term1 = label[:(n-1)]\n",
    "    term2 = label[0] + label[n-1] + label[n]\n",
    "    output_str = label[n]+label[n-1]+label[1:n-1] \n",
    "    einsum_str = term1 + \",\" + term2 + \"->\" + output_str\n",
    "    tensor1 = jnp.einsum(einsum_str, tensor1, tensor_list[0])\n",
    "    term1 = label[0] + label[n-1] + label[1:n-1]\n",
    "    for j in range(1, n-2):\n",
    "        term2 = label[j] + label[(n-1)] + label[n] + label[n+1]\n",
    "        output_str = label[:j] + label[n] + label[n+1] + label[(j+1):(n-1)]\n",
    "        einsum_str = term1 + \",\" + term2 + \"->\" + output_str\n",
    "        tensor1 = jnp.einsum(einsum_str, tensor1, tensor_list[j])\n",
    "        term1 = label[:j+1] + label[(n-1)] + label[(j+1):(n-1)]\n",
    "\n",
    "    term2 = label[n-2]+label[(n-1)] + label[n] \n",
    "    output_str = label[:(n-2)] + label[n]\n",
    "    einsum_str = term1 + \",\" + term2 + \"->\" + output_str\n",
    "    tensor1 = jnp.einsum(einsum_str, tensor1, tensor_list[n-2])\n",
    "    return tensor1\n",
    "    \n",
    "def process_ladder_AC(n, plaq_dict, plaq, p, tensor):\n",
    "    # Only here the plaq_dict is a list of dict.\n",
    "    label = string.ascii_letters\n",
    "    for i in range(n - 2):\n",
    "        term1 = label[:(n-1)]\n",
    "        term2 = label[0] + label[(n-1)]\n",
    "        output_subscript = label[n-1] + label[1:n-1]\n",
    "        einsum_subscript = term1 + \",\" + term2 + \"->\" + output_subscript\n",
    "        tensor = jnp.einsum(einsum_subscript, tensor, corner_tensor(plaq_dict[i][plaq[i][0]], p))\n",
    "        \n",
    "        for j in range(1, n - i - 1):\n",
    "            term2 = label[j] + label[n-1] + label[n] + label[n+1]\n",
    "            output_subscript = label[:j-1] + label[n+1] + label [n] + label[(j+1):(n-1)]\n",
    "            einsum_str = term1 + \",\" + term2 + \"->\" + output_subscript\n",
    "            tensor = jnp.einsum(einsum_str, tensor, full_tensor(plaq[i][j], p))\n",
    "            term1 = label[:j] + label[(n-1)] + label[j+1:(n-1)]\n",
    "    term1 = label[:(n-1)]\n",
    "    term2 = label[0] + label[n-1]\n",
    "    output_subscript = label[n-1]+label[1:(n-1)]\n",
    "    einsum_str = term1 + \",\" + term2 + \"->\" + output_subscript\n",
    "    tensor = jnp.einsum(einsum_str, tensor, corner_tensor(plaq_dict[n-2][plaq[n-2][0]], p))\n",
    "\n",
    "    return tensor"
   ],
   "metadata": {
    "collapsed": false,
    "ExecuteTime": {
     "end_time": "2025-04-18T03:29:47.644488Z",
     "start_time": "2025-04-18T03:29:47.619602Z"
    }
   },
   "id": "665e521c2f89e0ac",
   "execution_count": 36
  },
  {
   "cell_type": "code",
   "outputs": [],
   "source": [
    "def Pr_m_B_func(n, plaq_dict, plaq, p):\n",
    "    ini_tensor = process_initial_BC(n, plaq_dict[0], plaq[0], p)\n",
    "    for i in range(1, n-2):\n",
    "        ini_tensor = process_column_BC(n, plaq_dict[i], plaq[i], p, ini_tensor)\n",
    "    Pr_m_B = jnp.sum(ini_tensor)\n",
    "    return Pr_m_B\n",
    "\n",
    "def Pr_m_BC_func(n, plaq_dict, plaq, p):\n",
    "    ini_tensor = process_initial_BC(n, plaq_dict[0], plaq[0], p)\n",
    "    for i in range(1, n):\n",
    "        ini_tensor = process_column_BC(n, plaq_dict[i], plaq[i], p, ini_tensor)\n",
    "    ini_tensor = process_ladder_BC(n, plaq_dict[n:2*n-1], plaq[n:2*n-1], p, ini_tensor)\n",
    "    for i in range(n):\n",
    "        ini_tensor = process_column_BC(n, plaq_dict[2*n-1+i], plaq[2*n-1+i], p, ini_tensor)\n",
    "    ini_tensor = process_ladder_BC(n, plaq_dict[3*n-1:4*n-2], plaq[3*n-1:4*n-2], p, ini_tensor)\n",
    "    for i in range(n):\n",
    "        ini_tensor = process_column_BC(n, plaq_dict[4*n-2+i], plaq[4*n-2+i], p, ini_tensor)\n",
    "    Pr_m_BC = jnp.sum(ini_tensor)\n",
    "    return Pr_m_BC\n",
    "\n",
    "def Pr_m_AC_func(n, plaq_dict, plaq, p):\n",
    "    ini_tensor = process_initial_AC(n, plaq_dict[0], plaq[0], p)\n",
    "    ini_tensor = process_ladder_AC(n, plaq_dict[1:n], plaq[1:n], p, ini_tensor)\n",
    "    print(\"ini_after_ladder:\", ini_tensor)\n",
    "    for i in range(n):\n",
    "        ini_tensor = process_column_AC(n, plaq_dict[n+i], plaq[n+i], p, ini_tensor)\n",
    "    ini_tensor = process_ladder_AC(n, plaq_dict[2*n:3*n-1], plaq[2*n:3*n-1], p, ini_tensor)\n",
    "    for i in range(n):\n",
    "        ini_tensor = process_column_AC(n, plaq_dict[3*n-1+i], plaq[3*n-1+i], p, ini_tensor)\n",
    "    ini_tensor = process_ladder_AC(n, plaq_dict[4*n-1:5*n-2], plaq[4*n-1:5*n-2], p, ini_tensor)\n",
    "    for i in range(n):\n",
    "        ini_tensor = process_column_AC(n, plaq_dict[5*n-2+i], plaq[5*n-2+i], p, ini_tensor)\n",
    "    ini_tensor = process_ladder_AC(n, plaq_dict[6*n-2:7*n-3], plaq[6*n-2:7*n-3], p, ini_tensor)\n",
    "    Pr_m_AC = jnp.sum(ini_tensor)\n",
    "    return Pr_m_AC\n",
    "\n",
    "def Pr_m_ABC_func(n, plaq_dict, plaq, p):\n",
    "    label = string.ascii_letters\n",
    "    ini_tensor = process_initial_ABC(n, plaq_dict[0], plaq[0], p)\n",
    "    for i in range(1, n):\n",
    "        ini_tensor = process_column_ABC(n, plaq_dict[i], plaq[i], p, ini_tensor)\n",
    "    ini_tensor = process_ladder_ABC(n, plaq_dict[n:2*n-1], plaq[n:2*n-1], p, ini_tensor)\n",
    "    for i in range(n):\n",
    "        ini_tensor = process_column_ABC(n, plaq_dict[2*n-1+i], plaq[2*n-1+i], p, ini_tensor)\n",
    "    ini_tensor = process_ladder_ABC(n, plaq_dict[3*n-1:4*n-2], plaq[3*n-1:4*n-2], p, ini_tensor)\n",
    "    for i in range(n):\n",
    "        ini_tensor = process_column_ABC(n, plaq_dict[4*n-2+i], plaq[4*n-2+i], p, ini_tensor)\n",
    "    ini_tensor = process_ladder_ABC(n, plaq_dict[5*n-2:6*n-3], plaq[5*n-2:6*n-3], p, ini_tensor)\n",
    "    for i in range(n):\n",
    "        ini_tensor = process_column_ABC(n, plaq_dict[6*n-3+i], plaq[6*n-3+i], p, ini_tensor)\n",
    "    ini_tensor = process_ladder_ABC(n, plaq_dict[7*n-3:8*n-4], plaq[7*n-3:8*n-4], p, ini_tensor)\n",
    "    einsum_str = label[:n-1]+label[:n-1] + \"->\" \n",
    "    return jnp.einsum(einsum_str, ini_tensor)\n",
    "    "
   ],
   "metadata": {
    "collapsed": false,
    "ExecuteTime": {
     "end_time": "2025-04-18T03:29:48.062549Z",
     "start_time": "2025-04-18T03:29:48.035926Z"
    }
   },
   "id": "916e55a54ab69dcc",
   "execution_count": 37
  },
  {
   "cell_type": "code",
   "outputs": [
    {
     "data": {
      "text/plain": "[[(1, 9), (2, 9), (3, 9), (4, 9)],\n [(1, 10), (2, 10), (3, 10), (4, 10)],\n [(2, 11), (3, 11), (4, 11)],\n [(3, 12), (4, 12)],\n [(4, 13)],\n [(5, 13), (5, 12), (5, 11), (5, 10)],\n [(6, 13), (6, 12), (6, 11), (6, 10)],\n [(7, 13), (7, 12), (7, 11), (7, 10)],\n [(8, 13), (8, 12), (8, 11), (8, 10)],\n [(9, 13), (9, 12), (9, 11), (9, 10)],\n [(10, 13), (10, 12), (10, 11), (10, 10)],\n [(11, 12), (11, 11), (11, 10)],\n [(12, 11), (12, 10)],\n [(13, 10)],\n [(13, 9), (12, 9), (11, 9), (10, 9)],\n [(13, 8), (12, 8), (11, 8), (10, 8)],\n [(13, 7), (12, 7), (11, 7), (10, 7)],\n [(13, 6), (12, 6), (11, 6), (10, 6)],\n [(13, 5), (12, 5), (11, 5), (10, 5)],\n [(13, 4), (12, 4), (11, 4), (10, 4)],\n [(12, 3), (11, 3), (10, 3)],\n [(11, 2), (10, 2)],\n [(10, 1)],\n [(9, 1), (9, 2), (9, 3), (9, 4)],\n [(8, 1), (8, 2), (8, 3), (8, 4)],\n [(7, 1), (7, 2), (7, 3), (7, 4)],\n [(6, 1), (6, 2), (6, 3), (6, 4)],\n [(5, 1), (5, 2), (5, 3), (5, 4)],\n [(4, 1), (4, 2), (4, 3), (4, 4)],\n [(3, 2), (3, 3), (3, 4)],\n [(2, 3), (2, 4)],\n [(1, 4)],\n [(1, 5), (2, 5), (3, 5), (4, 5)]]"
     },
     "execution_count": 38,
     "metadata": {},
     "output_type": "execute_result"
    }
   ],
   "source": [
    "plaq_AC"
   ],
   "metadata": {
    "collapsed": false,
    "ExecuteTime": {
     "end_time": "2025-04-18T03:29:48.550231Z",
     "start_time": "2025-04-18T03:29:48.539832Z"
    }
   },
   "id": "24819dbc9d728256",
   "execution_count": 38
  },
  {
   "cell_type": "code",
   "outputs": [],
   "source": [
    "def metropolis_step(n, plaq_dict, Pr_func, plaq, p, num_samples, kind):\n",
    "    \"\"\"\n",
    "    Perform num_samples Metropolis updates on plaq_dict.\n",
    "    \n",
    "    Args:\n",
    "      n             : system size\n",
    "      plaq_dict     : current configuration (dict-of-dicts)\n",
    "      Pr_func       : function signature Pr = Pr_func(n, config, plaq, p)\n",
    "      plaq          : any auxiliary data needed by Pr_func\n",
    "      p             : model parameter\n",
    "      num_samples   : how many proposed flips to attempt\n",
    "\n",
    "    Returns:\n",
    "      plaq_dict_new : updated configuration after all steps\n",
    "      w_list        : list of log‑probabilities at each step (length num_samples+1)\n",
    "    \"\"\"\n",
    "    w_list = []\n",
    "    Pr0 = Pr_func(n, plaq_dict, plaq, p)\n",
    "    w_list.append(jnp.log(Pr0))\n",
    "\n",
    "    for _ in range(num_samples):\n",
    "        if kind in (\"B\", \"BC\"):\n",
    "            candidate = flip_one_free(plaq_dict)\n",
    "        else:\n",
    "            candidate = flip_one(plaq_dict, n, kind)\n",
    "        Pr  = Pr_func(n, candidate, plaq, p)\n",
    "        print(\"Pr0:\", Pr0)\n",
    "        print(\"Pr:\", Pr)\n",
    "        # accept with Metropolis criterion\n",
    "        if random.random() < (Pr / Pr0):\n",
    "            plaq_dict = candidate\n",
    "            Pr0       = Pr\n",
    "        w_list.append(jnp.log(Pr0))\n",
    "\n",
    "    return plaq_dict, w_list\n"
   ],
   "metadata": {
    "collapsed": false,
    "ExecuteTime": {
     "end_time": "2025-04-18T03:29:48.952167Z",
     "start_time": "2025-04-18T03:29:48.945540Z"
    }
   },
   "id": "af0f37ea7f6040a3",
   "execution_count": 39
  },
  {
   "cell_type": "code",
   "outputs": [],
   "source": [
    "a = 0\n",
    "'''\n",
    "def make_metropolis(Pr_func, plaq, kind):\n",
    "    #@partial(jax.jit, static_argnums=(0, ))\n",
    "    def metropolis_step(n, plaq_dict, p, num_samples, keym):\n",
    "        \"\"\"\n",
    "        Perform `num_samples` Metropolis updates on `plaq_dict`.\n",
    "        \n",
    "        Args:\n",
    "          n             : system size\n",
    "          plaq_dict     : current configuration (dict-of-dicts)\n",
    "          Pr_func       : function signature Pr = Pr_func(n, config, plaq, p)\n",
    "          plaq          : any auxiliary data needed by Pr_func\n",
    "          p             : model parameter\n",
    "          num_samples   : how many proposed flips to attempt\n",
    "    \n",
    "        Returns:\n",
    "          plaq_dict_new : updated configuration after all steps\n",
    "          w_list        : list of log‑probabilities at each step (length num_samples+1)\n",
    "        \"\"\"\n",
    "        print(\"plaq_dict_m\", plaq_dict)\n",
    "        Pr0 = Pr_func(n, plaq_dict, plaq, p)\n",
    "        w0 = jnp.log(Pr0)\n",
    "        \n",
    "        def step(carry, r_key):\n",
    "            config, Pr_prev = carry\n",
    "            k1, k2 = jax.random.split(r_key)\n",
    "            if kind in (\"B\", \"BC\"):\n",
    "                candidate = flip_one_free(config)\n",
    "            else:\n",
    "                candidate = flip_one(config, n, kind)\n",
    "            Pr_cand = Pr_func(n, candidate, plaq, p)\n",
    "            # accept with Metropolis criterion\n",
    "            accept = jax.random.uniform(k2) < (Pr_cand / Pr_prev)\n",
    "            new_config = lax.select(accept, candidate, config)\n",
    "            new_Pr = lax.select(accept, Pr_cand, Pr_prev)\n",
    "            \n",
    "            w = jnp.log(new_Pr)\n",
    "            return (new_config, new_Pr), w\n",
    "    \n",
    "        (final_config, _), w_scan = lax.scan(step, (plaq_dict, Pr0), jax.random.split(keym, num_samples))\n",
    "            \n",
    "        return final_config, jnp.concatenate((jnp.array([w0]), w_scan))\n",
    "    return metropolis_step\n",
    "'''\n",
    "b = 0"
   ],
   "metadata": {
    "collapsed": false,
    "ExecuteTime": {
     "end_time": "2025-04-18T03:29:49.490685Z",
     "start_time": "2025-04-18T03:29:49.471621Z"
    }
   },
   "id": "8626634b5de8713",
   "execution_count": 40
  },
  {
   "cell_type": "code",
   "outputs": [
    {
     "name": "stdout",
     "output_type": "stream",
     "text": [
      "Pr0: 1.4296650054617048e-28\n",
      "Pr: 4.3969226115167405e-28\n",
      "Pr0: 4.3969226115167405e-28\n",
      "Pr: 9.623302924525132e-29\n",
      "Pr0: 4.3969226115167405e-28\n",
      "Pr: 1.6412007826946535e-29\n",
      "Pr0: 4.3969226115167405e-28\n",
      "Pr: 3.746055465741178e-30\n",
      "Pr0: 4.3969226115167405e-28\n",
      "Pr: 4.314963384081692e-31\n",
      "Pr0: 4.3969226115167405e-28\n",
      "Pr: 9.408669845484461e-32\n",
      "Pr0: 4.3969226115167405e-28\n",
      "Pr: 8.164184166798653e-31\n",
      "Pr0: 4.3969226115167405e-28\n",
      "Pr: 4.8601129886739514e-32\n",
      "Pr0: 4.3969226115167405e-28\n",
      "Pr: 1.1529600290668846e-31\n",
      "Pr0: 4.3969226115167405e-28\n",
      "Pr: 3.7733608276551835e-32\n"
     ]
    }
   ],
   "source": [
    "p = 0.1\n",
    "num_samples = 10\n",
    "keyB, keyBC, keyAC, keyABC = jax.random.PRNGKey(0), jax.random.PRNGKey(1), jax.random.PRNGKey(2), jax.random.PRNGKey(3)\n",
    "w_b, w_bc, w_ac, w_abc = [], [], [], []\n",
    "\n",
    "#plaq_B_dict,  w_b = metropolis_step(n, plaq_B_dict, Pr_m_B_func, plaq_B, p, num_samples, \"B\")\n",
    "#plaq_BC_dict, w_bc = metropolis_step(n, plaq_BC_dict, Pr_m_BC_func, plaq_BC, p, num_samples, \"BC\")\n",
    "#plaq_AC_dict, w_ac = metropolis_step(n, plaq_AC_dict, Pr_m_AC_func, plaq_AC, p, num_samples, \"AC\")\n",
    "plaq_ABC_dict, w_abc = metropolis_step(n, plaq_ABC_dict, Pr_m_ABC_func, plaq_ABC, p, num_samples, \"ABC\")"
   ],
   "metadata": {
    "collapsed": false,
    "ExecuteTime": {
     "end_time": "2025-04-18T03:31:26.001245Z",
     "start_time": "2025-04-18T03:31:10.341382Z"
    }
   },
   "id": "40a6bfb9f51dea32",
   "execution_count": 44
  },
  {
   "cell_type": "code",
   "outputs": [
    {
     "data": {
      "text/plain": "[Array(-20.94128697, dtype=float64),\n Array(-20.94128697, dtype=float64),\n Array(-20.94128697, dtype=float64),\n Array(-20.66257034, dtype=float64),\n Array(-20.66257034, dtype=float64),\n Array(-20.66257034, dtype=float64),\n Array(-20.66257034, dtype=float64),\n Array(-20.66257034, dtype=float64),\n Array(-20.66257034, dtype=float64),\n Array(-20.66257034, dtype=float64),\n Array(-20.66257034, dtype=float64)]"
     },
     "execution_count": 28,
     "metadata": {},
     "output_type": "execute_result"
    }
   ],
   "source": [
    "w_abc"
   ],
   "metadata": {
    "collapsed": false,
    "ExecuteTime": {
     "end_time": "2025-04-18T03:28:46.319003Z",
     "start_time": "2025-04-18T03:28:46.305200Z"
    }
   },
   "id": "d4c0ce426c6edde9",
   "execution_count": 28
  },
  {
   "cell_type": "code",
   "outputs": [
    {
     "data": {
      "text/plain": "Array(-inf, dtype=float64)"
     },
     "execution_count": 16,
     "metadata": {},
     "output_type": "execute_result"
    }
   ],
   "source": [
    "jnp.sum(jnp.array(w_ac) + jnp.array(w_bc) - jnp.array(w_abc) - jnp.array(w_b))"
   ],
   "metadata": {
    "collapsed": false,
    "ExecuteTime": {
     "end_time": "2025-04-18T00:28:31.527183Z",
     "start_time": "2025-04-18T00:28:31.435917Z"
    }
   },
   "id": "8270fa3a206ed7dd",
   "execution_count": 16
  },
  {
   "cell_type": "code",
   "outputs": [],
   "source": [],
   "metadata": {
    "collapsed": false
   },
   "id": "a4c934bc70a100d7"
  },
  {
   "cell_type": "code",
   "outputs": [
    {
     "name": "stdout",
     "output_type": "stream",
     "text": [
      "plaq_dict_m [{(1, 6): 0, (2, 6): 0, (3, 6): 0}, {(1, 7): 0, (2, 7): 0, (3, 7): 0}, {(1, 8): 0, (2, 8): 0, (3, 8): 0}]\n"
     ]
    },
    {
     "ename": "TracerBoolConversionError",
     "evalue": "Attempted boolean conversion of traced array with shape bool[]..\nThe error occurred while tracing the function step at C:\\Users\\Administrator\\AppData\\Local\\Temp\\ipykernel_32880\\2635678145.py:23 for scan. This concrete value was not available in Python because it depends on the value of the argument carry[0][0][(1, 6)].\nSee https://jax.readthedocs.io/en/latest/errors.html#jax.errors.TracerBoolConversionError",
     "output_type": "error",
     "traceback": [
      "\u001B[1;31m---------------------------------------------------------------------------\u001B[0m",
      "\u001B[1;31mTracerBoolConversionError\u001B[0m                 Traceback (most recent call last)",
      "Cell \u001B[1;32mIn[107], line 11\u001B[0m\n\u001B[0;32m      8\u001B[0m AC_sampler \u001B[38;5;241m=\u001B[39m make_metropolis(Pr_m_AC_func, plaq_AC, \u001B[38;5;124m\"\u001B[39m\u001B[38;5;124mAC\u001B[39m\u001B[38;5;124m\"\u001B[39m)\n\u001B[0;32m      9\u001B[0m ABC_sampler \u001B[38;5;241m=\u001B[39m make_metropolis(Pr_m_ABC_func, plaq_ABC, \u001B[38;5;124m\"\u001B[39m\u001B[38;5;124mABC\u001B[39m\u001B[38;5;124m\"\u001B[39m)\n\u001B[1;32m---> 11\u001B[0m plaq_B_dict,  w_b  \u001B[38;5;241m=\u001B[39m \u001B[43mB_sampler\u001B[49m\u001B[43m(\u001B[49m\u001B[43mn\u001B[49m\u001B[43m,\u001B[49m\u001B[43m \u001B[49m\u001B[43mplaq_B_dict\u001B[49m\u001B[43m,\u001B[49m\u001B[43m \u001B[49m\u001B[43mp\u001B[49m\u001B[43m,\u001B[49m\u001B[43m \u001B[49m\u001B[43mnum_samples\u001B[49m\u001B[43m,\u001B[49m\u001B[43m \u001B[49m\u001B[43mkeyB\u001B[49m\u001B[43m)\u001B[49m\n\u001B[0;32m     12\u001B[0m plaq_BC_dict, w_bc \u001B[38;5;241m=\u001B[39m BC_sampler(n, plaq_BC_dict, p, num_samples, keyBC)\n\u001B[0;32m     13\u001B[0m plaq_AC_dict, w_ac \u001B[38;5;241m=\u001B[39m AC_sampler(n, plaq_AC_dict, p, num_samples, keyAC)\n",
      "Cell \u001B[1;32mIn[106], line 39\u001B[0m, in \u001B[0;36mmake_metropolis.<locals>.metropolis_step\u001B[1;34m(n, plaq_dict, p, num_samples, keym)\u001B[0m\n\u001B[0;32m     36\u001B[0m     w \u001B[38;5;241m=\u001B[39m jnp\u001B[38;5;241m.\u001B[39mlog(new_Pr)\n\u001B[0;32m     37\u001B[0m     \u001B[38;5;28;01mreturn\u001B[39;00m (new_config, new_Pr), w\n\u001B[1;32m---> 39\u001B[0m (final_config, _), w_scan \u001B[38;5;241m=\u001B[39m \u001B[43mlax\u001B[49m\u001B[38;5;241;43m.\u001B[39;49m\u001B[43mscan\u001B[49m\u001B[43m(\u001B[49m\u001B[43mstep\u001B[49m\u001B[43m,\u001B[49m\u001B[43m \u001B[49m\u001B[43m(\u001B[49m\u001B[43mplaq_dict\u001B[49m\u001B[43m,\u001B[49m\u001B[43m \u001B[49m\u001B[43mPr0\u001B[49m\u001B[43m)\u001B[49m\u001B[43m,\u001B[49m\u001B[43m \u001B[49m\u001B[43mjax\u001B[49m\u001B[38;5;241;43m.\u001B[39;49m\u001B[43mrandom\u001B[49m\u001B[38;5;241;43m.\u001B[39;49m\u001B[43msplit\u001B[49m\u001B[43m(\u001B[49m\u001B[43mkeym\u001B[49m\u001B[43m,\u001B[49m\u001B[43m \u001B[49m\u001B[43mnum_samples\u001B[49m\u001B[43m)\u001B[49m\u001B[43m)\u001B[49m\n\u001B[0;32m     41\u001B[0m \u001B[38;5;28;01mreturn\u001B[39;00m final_config, jnp\u001B[38;5;241m.\u001B[39mconcatenate((jnp\u001B[38;5;241m.\u001B[39marray([w0]), w_scan))\n",
      "    \u001B[1;31m[... skipping hidden 9 frame]\u001B[0m\n",
      "Cell \u001B[1;32mIn[106], line 30\u001B[0m, in \u001B[0;36mmake_metropolis.<locals>.metropolis_step.<locals>.step\u001B[1;34m(carry, r_key)\u001B[0m\n\u001B[0;32m     28\u001B[0m \u001B[38;5;28;01melse\u001B[39;00m:\n\u001B[0;32m     29\u001B[0m     candidate \u001B[38;5;241m=\u001B[39m flip_one(config, n, kind)\n\u001B[1;32m---> 30\u001B[0m Pr_cand \u001B[38;5;241m=\u001B[39m \u001B[43mPr_func\u001B[49m\u001B[43m(\u001B[49m\u001B[43mn\u001B[49m\u001B[43m,\u001B[49m\u001B[43m \u001B[49m\u001B[43mcandidate\u001B[49m\u001B[43m,\u001B[49m\u001B[43m \u001B[49m\u001B[43mplaq\u001B[49m\u001B[43m,\u001B[49m\u001B[43m \u001B[49m\u001B[43mp\u001B[49m\u001B[43m)\u001B[49m\n\u001B[0;32m     31\u001B[0m \u001B[38;5;66;03m# accept with Metropolis criterion\u001B[39;00m\n\u001B[0;32m     32\u001B[0m accept \u001B[38;5;241m=\u001B[39m jax\u001B[38;5;241m.\u001B[39mrandom\u001B[38;5;241m.\u001B[39muniform(k2) \u001B[38;5;241m<\u001B[39m (Pr_cand \u001B[38;5;241m/\u001B[39m Pr_prev)\n",
      "Cell \u001B[1;32mIn[104], line 2\u001B[0m, in \u001B[0;36mPr_m_B_func\u001B[1;34m(n, plaq_dict, plaq, p)\u001B[0m\n\u001B[0;32m      1\u001B[0m \u001B[38;5;28;01mdef\u001B[39;00m \u001B[38;5;21mPr_m_B_func\u001B[39m(n, plaq_dict, plaq, p):\n\u001B[1;32m----> 2\u001B[0m     ini_tensor \u001B[38;5;241m=\u001B[39m \u001B[43mprocess_initial_BC\u001B[49m\u001B[43m(\u001B[49m\u001B[43mn\u001B[49m\u001B[43m,\u001B[49m\u001B[43m \u001B[49m\u001B[43mplaq_dict\u001B[49m\u001B[43m[\u001B[49m\u001B[38;5;241;43m0\u001B[39;49m\u001B[43m]\u001B[49m\u001B[43m,\u001B[49m\u001B[43m \u001B[49m\u001B[43mplaq\u001B[49m\u001B[43m[\u001B[49m\u001B[38;5;241;43m0\u001B[39;49m\u001B[43m]\u001B[49m\u001B[43m,\u001B[49m\u001B[43m \u001B[49m\u001B[43mp\u001B[49m\u001B[43m)\u001B[49m\n\u001B[0;32m      3\u001B[0m     \u001B[38;5;28;01mfor\u001B[39;00m i \u001B[38;5;129;01min\u001B[39;00m \u001B[38;5;28mrange\u001B[39m(\u001B[38;5;241m1\u001B[39m, n\u001B[38;5;241m-\u001B[39m\u001B[38;5;241m2\u001B[39m):\n\u001B[0;32m      4\u001B[0m         ini_tensor \u001B[38;5;241m=\u001B[39m process_column_BC(n, plaq_dict[i], plaq[i], p, ini_tensor)\n",
      "Cell \u001B[1;32mIn[98], line 39\u001B[0m, in \u001B[0;36mprocess_initial_BC\u001B[1;34m(n, plaq_dict, plaq, p)\u001B[0m\n\u001B[0;32m     37\u001B[0m label \u001B[38;5;241m=\u001B[39m string\u001B[38;5;241m.\u001B[39mascii_letters\n\u001B[0;32m     38\u001B[0m \u001B[38;5;66;03m# Initialize the tensor list.\u001B[39;00m\n\u001B[1;32m---> 39\u001B[0m tensor_list \u001B[38;5;241m=\u001B[39m \u001B[43minitial_top_BC\u001B[49m\u001B[43m(\u001B[49m\u001B[43mn\u001B[49m\u001B[43m,\u001B[49m\u001B[43m \u001B[49m\u001B[43mplaq_dict\u001B[49m\u001B[43m,\u001B[49m\u001B[43m \u001B[49m\u001B[43mplaq\u001B[49m\u001B[43m,\u001B[49m\u001B[43m \u001B[49m\u001B[43mp\u001B[49m\u001B[43m)\u001B[49m\n\u001B[0;32m     41\u001B[0m \u001B[38;5;66;03m# Left boundary tensor: shape (2,2) → assign indices: [bottom_label[0], virtual_label[0]]\u001B[39;00m\n\u001B[0;32m     42\u001B[0m top_term \u001B[38;5;241m=\u001B[39m label[\u001B[38;5;241m0\u001B[39m]\u001B[38;5;241m+\u001B[39mlabel[n \u001B[38;5;241m-\u001B[39m \u001B[38;5;241m2\u001B[39m] \n",
      "Cell \u001B[1;32mIn[98], line 10\u001B[0m, in \u001B[0;36minitial_top_BC\u001B[1;34m(n, plaq_dict, plaq, p)\u001B[0m\n\u001B[0;32m      7\u001B[0m tensor_list \u001B[38;5;241m=\u001B[39m []\n\u001B[0;32m      9\u001B[0m m \u001B[38;5;241m=\u001B[39m plaq_dict[plaq[\u001B[38;5;241m0\u001B[39m]]\n\u001B[1;32m---> 10\u001B[0m tensor_list\u001B[38;5;241m.\u001B[39mappend(\u001B[43mcorner_tensor\u001B[49m\u001B[43m(\u001B[49m\u001B[43mm\u001B[49m\u001B[43m,\u001B[49m\u001B[43m \u001B[49m\u001B[43mp\u001B[49m\u001B[43m)\u001B[49m)  \u001B[38;5;66;03m# left boundary, shape (2,2)\u001B[39;00m\n\u001B[0;32m     11\u001B[0m \u001B[38;5;28;01mfor\u001B[39;00m i \u001B[38;5;129;01min\u001B[39;00m \u001B[38;5;28mrange\u001B[39m(n \u001B[38;5;241m-\u001B[39m \u001B[38;5;241m4\u001B[39m):\n\u001B[0;32m     12\u001B[0m     m \u001B[38;5;241m=\u001B[39m plaq_dict[plaq[i\u001B[38;5;241m+\u001B[39m\u001B[38;5;241m1\u001B[39m]]\n",
      "File \u001B[1;32m~\\PycharmProjects\\UIUC_test\\util.py:416\u001B[0m, in \u001B[0;36mcorner_tensor\u001B[1;34m(m, p)\u001B[0m\n\u001B[0;32m    414\u001B[0m \u001B[38;5;28;01mdef\u001B[39;00m \u001B[38;5;21mcorner_tensor\u001B[39m(m, p):\n\u001B[0;32m    415\u001B[0m     tensor_list \u001B[38;5;241m=\u001B[39m []\n\u001B[1;32m--> 416\u001B[0m     Q \u001B[38;5;241m=\u001B[39m \u001B[43mQ_tensor\u001B[49m\u001B[43m(\u001B[49m\u001B[43mm\u001B[49m\u001B[43m)\u001B[49m\n\u001B[0;32m    417\u001B[0m     T \u001B[38;5;241m=\u001B[39m T_tensor(p)\n\u001B[0;32m    418\u001B[0m     bT \u001B[38;5;241m=\u001B[39m boundary_T_tensor(p)\n",
      "File \u001B[1;32m~\\PycharmProjects\\UIUC_test\\util.py:370\u001B[0m, in \u001B[0;36mQ_tensor\u001B[1;34m(m)\u001B[0m\n\u001B[0;32m    368\u001B[0m                 parity \u001B[38;5;241m=\u001B[39m (s1 \u001B[38;5;241m+\u001B[39m s2 \u001B[38;5;241m+\u001B[39m s3 \u001B[38;5;241m+\u001B[39m s4) \u001B[38;5;241m%\u001B[39m \u001B[38;5;241m2\u001B[39m\n\u001B[0;32m    369\u001B[0m                 \u001B[38;5;66;03m# If parity matches the anyon measurement, set entry to 1.\u001B[39;00m\n\u001B[1;32m--> 370\u001B[0m                 value \u001B[38;5;241m=\u001B[39m \u001B[38;5;241m1\u001B[39m \u001B[38;5;28;01mif\u001B[39;00m \u001B[43mparity\u001B[49m\u001B[43m \u001B[49m\u001B[38;5;241;43m==\u001B[39;49m\u001B[43m \u001B[49m\u001B[43mm\u001B[49m \u001B[38;5;28;01melse\u001B[39;00m \u001B[38;5;241m0\u001B[39m\n\u001B[0;32m    371\u001B[0m                 Q \u001B[38;5;241m=\u001B[39m Q\u001B[38;5;241m.\u001B[39mat[s1, s2, s3, s4]\u001B[38;5;241m.\u001B[39mset(value)\n\u001B[0;32m    372\u001B[0m \u001B[38;5;28;01mreturn\u001B[39;00m Q\n",
      "    \u001B[1;31m[... skipping hidden 1 frame]\u001B[0m\n",
      "File \u001B[1;32m~\\PycharmProjects\\UIUC_test\\.venv\\lib\\site-packages\\jax\\_src\\core.py:1517\u001B[0m, in \u001B[0;36mconcretization_function_error.<locals>.error\u001B[1;34m(self, arg)\u001B[0m\n\u001B[0;32m   1516\u001B[0m \u001B[38;5;28;01mdef\u001B[39;00m \u001B[38;5;21merror\u001B[39m(\u001B[38;5;28mself\u001B[39m, arg):\n\u001B[1;32m-> 1517\u001B[0m   \u001B[38;5;28;01mraise\u001B[39;00m TracerBoolConversionError(arg)\n",
      "\u001B[1;31mTracerBoolConversionError\u001B[0m: Attempted boolean conversion of traced array with shape bool[]..\nThe error occurred while tracing the function step at C:\\Users\\Administrator\\AppData\\Local\\Temp\\ipykernel_32880\\2635678145.py:23 for scan. This concrete value was not available in Python because it depends on the value of the argument carry[0][0][(1, 6)].\nSee https://jax.readthedocs.io/en/latest/errors.html#jax.errors.TracerBoolConversionError"
     ]
    }
   ],
   "source": [
    "p = 0.1\n",
    "num_samples = 10\n",
    "keyB, keyBC, keyAC, keyABC = jax.random.PRNGKey(0), jax.random.PRNGKey(1), jax.random.PRNGKey(2), jax.random.PRNGKey(3)\n",
    "w_b, w_bc, w_ac, w_abc = [], [], [], []\n",
    "\n",
    "B_sampler = make_metropolis(Pr_m_B_func, plaq_B, \"B\")\n",
    "BC_sampler = make_metropolis(Pr_m_BC_func, plaq_BC, \"BC\")\n",
    "AC_sampler = make_metropolis(Pr_m_AC_func, plaq_AC, \"AC\")\n",
    "ABC_sampler = make_metropolis(Pr_m_ABC_func, plaq_ABC, \"ABC\")\n",
    "\n",
    "plaq_B_dict,  w_b  = B_sampler(n, plaq_B_dict, p, num_samples, keyB)\n",
    "plaq_BC_dict, w_bc = BC_sampler(n, plaq_BC_dict, p, num_samples, keyBC)\n",
    "plaq_AC_dict, w_ac = AC_sampler(n, plaq_AC_dict, p, num_samples, keyAC)\n",
    "plaq_ABC_dict, w_abc = ABC_sampler(n, plaq_ABC_dict, p, num_samples, keyABC)\n",
    "\n",
    "CMI = jnp.sum(jnp.array(w_ac) + jnp.array(w_bc) - jnp.array(w_abc) - jnp.array(w_b))"
   ],
   "metadata": {
    "collapsed": false,
    "ExecuteTime": {
     "end_time": "2025-04-17T22:18:57.290800Z",
     "start_time": "2025-04-17T22:18:57.053256Z"
    }
   },
   "id": "8ec102584edf806a",
   "execution_count": 107
  },
  {
   "cell_type": "code",
   "outputs": [
    {
     "data": {
      "text/plain": "Array([[[[0., 1.],\n         [1., 0.]],\n\n        [[1., 0.],\n         [0., 1.]]],\n\n\n       [[[1., 0.],\n         [0., 1.]],\n\n        [[0., 1.],\n         [1., 0.]]]], dtype=float64)"
     },
     "execution_count": 108,
     "metadata": {},
     "output_type": "execute_result"
    }
   ],
   "source": [
    "Q_tensor(1)"
   ],
   "metadata": {
    "collapsed": false,
    "ExecuteTime": {
     "end_time": "2025-04-17T22:27:20.276883Z",
     "start_time": "2025-04-17T22:27:20.258014Z"
    }
   },
   "id": "9ad4ba43ef5d894d",
   "execution_count": 108
  },
  {
   "cell_type": "code",
   "outputs": [
    {
     "data": {
      "text/plain": "[[(1, 6), (2, 6), (3, 6)], [(1, 7), (2, 7), (3, 7)], [(1, 8), (2, 8), (3, 8)]]"
     },
     "execution_count": 77,
     "metadata": {},
     "output_type": "execute_result"
    }
   ],
   "source": [
    "plaq_B"
   ],
   "metadata": {
    "collapsed": false,
    "ExecuteTime": {
     "end_time": "2025-04-17T22:12:29.747004Z",
     "start_time": "2025-04-17T22:12:29.733050Z"
    }
   },
   "id": "433fe3e60c23e1a7",
   "execution_count": 77
  },
  {
   "cell_type": "code",
   "outputs": [],
   "source": [
    "'''\n",
    "def H_B_tensor(n, plaq, p):\n",
    "    label = string.ascii_letters\n",
    "    tensor1 = incomplete_tensor(plaq_dict[plaq[0, 0]], p)\n",
    "    term1 = label[0] + label[n - 2] + label[2*(n-2)]\n",
    "    for i in range(n-4):\n",
    "        tensor2 = full_tensor(plaq_dict[plaq[0, i+1]], p)\n",
    "        term2 = label[i+1] + label[2*(n-2)]  + label[n - 2 + i + 1] + label[2*(n-2) + 1]\n",
    "        output_str = label[:i+1] + label[n-2:n+i+2] + label[2*(n-2)+1]\n",
    "        einsum_str = term1 + \",\" + term2 + \"->\" + output_str\n",
    "        tensor1 = jnp.einsum(einsum_str, tensor1, tensor2)\n",
    "        term1 = label[:i+1] + label[n-2:n+i+2] + label[2*(n-2)]\n",
    "    tensor2 = incomplete_tensor(plaq_dict[plaq[0, n-3]])\n",
    "    term2 = label[n-3] + label[2*(n-2)] + label[2*(n-2) - 1]\n",
    "    output_str = label[:2*(n-2)]\n",
    "    einsum_str = term1 + \",\" + term2 + \"->\" + output_str\n",
    "    tensor1 = jnp.einsum(einsum_str, tensor1, tensor2)\n",
    "    for i in range(1, n):\n",
    "        tensor1 = process_column(n, plaq[i], p, tensor1)\n",
    "    return tensor1\n",
    "'''"
   ],
   "metadata": {
    "collapsed": false
   },
   "id": "8ebdc9fa615a3de9"
  },
  {
   "cell_type": "code",
   "outputs": [],
   "source": [
    "'''\n",
    "all_plaq = list(chain(\n",
    "    ((r, c) for r in range(1, n-1) for c in range(n, 2*n)), # top middle\n",
    "    ((2*n + r, c) for r in range(1, n-1) for c in range(n, 2*n)),  # bottom middle\n",
    "    ((r, c) for r in range(n, 2*n) for c in range(1, n-1)),\n",
    "    ((r, 2*n+c) for r in range(n, 2*n) for c in range(1, n-1)),\n",
    "    ((r, n-r+c) for r in range(n) for c in range(r)),\n",
    "    ((r, 2*n+c) for r in range(n) for c in range(r)),\n",
    "    ((2*n+r, c) for c in range(n) for r in range(c)),  \n",
    "    ((2*n+r, 2*n+c) for c in range(n) for r in range(n-c-1)),\n",
    "    ((n-1, n+c) for c in range(n)),\n",
    "    ((2*n, n+c) for c in range(n)),\n",
    "    ((n+r, n-1) for r in range(n)),\n",
    "    ((n+r, 2*n) for r in range(n)),\n",
    "))\n",
    "plaq_dict = {key: 0. for key in all_plaq}\n",
    "\n",
    "print(\"all_plaq:\", all_plaq)\n",
    "def region_plaquettes(regionEdges, all_plaq):\n",
    "    \"\"\"\n",
    "    For a given set of allowed edges (regionE\n",
    "    dges), return the list of plaquettes\n",
    "    (by their top-left coordinate) that are partially contained in the region.\n",
    "    \"\"\"\n",
    "    plaq = []\n",
    "    for (r, c) in all_plaq:\n",
    "        edges = [((r, c), 'H'),\n",
    "                 ((r+1, c), 'H'),\n",
    "                 ((r, c), 'V'),\n",
    "                 ((r, c+1), 'V')]\n",
    "        if all(e in regionEdges for e in edges):\n",
    "            plaq.append((r, c))\n",
    "    return plaq\n",
    "'''"
   ],
   "metadata": {
    "collapsed": false
   },
   "id": "9ee5dcac202c32e2",
   "execution_count": null
  }
 ],
 "metadata": {
  "kernelspec": {
   "display_name": "Python 3",
   "language": "python",
   "name": "python3"
  },
  "language_info": {
   "codemirror_mode": {
    "name": "ipython",
    "version": 2
   },
   "file_extension": ".py",
   "mimetype": "text/x-python",
   "name": "python",
   "nbconvert_exporter": "python",
   "pygments_lexer": "ipython2",
   "version": "2.7.6"
  }
 },
 "nbformat": 4,
 "nbformat_minor": 5
}
