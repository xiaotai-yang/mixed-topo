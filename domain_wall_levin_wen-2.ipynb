{
 "cells": [
  {
   "cell_type": "code",
   "id": "63dad47a3ef7b959",
   "metadata": {
    "collapsed": false,
    "ExecuteTime": {
     "end_time": "2025-04-21T00:49:24.998854Z",
     "start_time": "2025-04-21T00:49:24.949822Z"
    }
   },
   "source": [
    "import jax\n",
    "import jax.numpy as jnp\n",
    "import numpy as np\n",
    "from matplotlib.lines import Line2D\n",
    "import matplotlib.pyplot as plt\n",
    "import random\n",
    "import math\n",
    "from itertools import chain\n",
    "import string\n",
    "from functools import partial\n",
    "from jax import config, lax\n",
    "from util import *\n",
    "\n",
    "config.update(\"jax_enable_x64\", True)\n",
    "\n",
    "n = 4\n",
    "setA, setB, setC = plot_regions(n)\n",
    "plaq_ABC, plaq_C, plaq_BC, plaq_AC = plaq_ABC_func(n), plaq_C_func(n), plaq_BC_func(n), plaq_AC_func(n)\n",
    "plaq_B = plaq_B_func(n)\n",
    "\n",
    "plaq_ABC_dict = [ dict.fromkeys(row, 0) for row in plaq_ABC]\n",
    "plaq_B_dict = [ dict.fromkeys(row, 0) for row in plaq_B ]\n",
    "plaq_C_dict = [dict.fromkeys(row, 0) for row in plaq_C ]\n",
    "plaq_BC_dict = [ dict.fromkeys(row, 0) for row in plaq_BC ]\n",
    "plaq_AC_dict = [ dict.fromkeys(row, 0) for row in plaq_AC ]"
   ],
   "outputs": [
    {
     "data": {
      "text/plain": [
       "<Figure size 700x700 with 1 Axes>"
      ],
      "image/png": "[encoded data removed]"
     },
     "metadata": {},
     "output_type": "display_data"
    },
    {
     "name": "stdout",
     "output_type": "stream",
     "text": [
      "setA: {((9, 9), 'H'), ((10, 2), 'H'), ((9, 9), 'V'), ((11, 5), 'H'), ((10, 7), 'H'), ((11, 4), 'H'), ((9, 10), 'H'), ((8, 7), 'V'), ((11, 5), 'V'), ((11, 4), 'V'), ((9, 10), 'V'), ((10, 9), 'H'), ((10, 7), 'V'), ((8, 9), 'V'), ((9, 6), 'H'), ((8, 3), 'V'), ((10, 4), 'H'), ((9, 5), 'H'), ((8, 2), 'V'), ((11, 7), 'H'), ((10, 4), 'V'), ((10, 9), 'V'), ((11, 6), 'H'), ((8, 5), 'V'), ((4, 0), 'H'), ((9, 6), 'V'), ((9, 7), 'H'), ((10, 5), 'H'), ((10, 3), 'V'), ((9, 5), 'V'), ((11, 7), 'V'), ((10, 5), 'V'), ((11, 8), 'H'), ((6, 11), 'H'), ((8, 4), 'V'), ((11, 6), 'V'), ((9, 1), 'H'), ((8, 10), 'V'), ((9, 7), 'V'), ((5, 11), 'H'), ((8, 0), 'H'), ((9, 8), 'H'), ((5, 0), 'H'), ((11, 8), 'V'), ((9, 3), 'H'), ((9, 8), 'V'), ((9, 3), 'V'), ((11, 3), 'H'), ((8, 6), 'V'), ((10, 8), 'H'), ((8, 8), 'V'), ((7, 11), 'H'), ((8, 11), 'H'), ((9, 4), 'H'), ((8, 1), 'V'), ((10, 8), 'V'), ((8, 11), 'V'), ((4, 11), 'H'), ((10, 6), 'H'), ((9, 4), 'V'), ((10, 3), 'H'), ((10, 6), 'V'), ((9, 2), 'V'), ((9, 2), 'H'), ((7, 0), 'H'), ((6, 0), 'H')}\n",
      "setB: {((1, 5), 'H'), ((1, 5), 'V'), ((0, 7), 'V'), ((1, 7), 'H'), ((1, 7), 'V'), ((3, 4), 'H'), ((3, 6), 'H'), ((3, 5), 'H'), ((2, 6), 'H'), ((2, 6), 'V'), ((3, 6), 'V'), ((1, 6), 'H'), ((3, 7), 'H'), ((3, 5), 'V'), ((1, 6), 'V'), ((0, 6), 'V'), ((3, 7), 'V'), ((2, 5), 'H'), ((1, 4), 'H'), ((2, 4), 'H'), ((2, 5), 'V'), ((2, 7), 'H'), ((0, 5), 'V'), ((2, 7), 'V')}\n",
      "setC: {((8, 9), 'H'), ((4, 9), 'H'), ((2, 3), 'H'), ((2, 8), 'V'), ((3, 2), 'V'), ((2, 3), 'V'), ((2, 10), 'V'), ((3, 4), 'V'), ((1, 8), 'H'), ((6, 1), 'H'), ((4, 1), 'V'), ((5, 11), 'V'), ((4, 2), 'V'), ((5, 1), 'H'), ((5, 8), 'H'), ((2, 9), 'V'), ((3, 1), 'H'), ((6, 2), 'H'), ((3, 3), 'H'), ((6, 2), 'V'), ((6, 9), 'V'), ((7, 1), 'H'), ((1, 9), 'V'), ((7, 1), 'V'), ((0, 8), 'V'), ((2, 8), 'H'), ((5, 9), 'H'), ((3, 2), 'H'), ((5, 9), 'V'), ((6, 8), 'H'), ((8, 10), 'H'), ((3, 11), 'V'), ((4, 1), 'H'), ((0, 4), 'V'), ((7, 2), 'H'), ((5, 10), 'V'), ((4, 2), 'H'), ((7, 2), 'V'), ((3, 8), 'H'), ((2, 9), 'H'), ((3, 8), 'V'), ((4, 3), 'V'), ((6, 9), 'H'), ((6, 3), 'H'), ((6, 3), 'V'), ((3, 9), 'H'), ((7, 3), 'H'), ((3, 9), 'V'), ((7, 3), 'V'), ((3, 10), 'V'), ((5, 10), 'H'), ((4, 3), 'H'), ((7, 10), 'V'), ((5, 2), 'V'), ((8, 1), 'H'), ((4, 10), 'V'), ((6, 10), 'H'), ((1, 4), 'V'), ((5, 3), 'V'), ((6, 10), 'V'), ((2, 2), 'H'), ((7, 8), 'H'), ((2, 2), 'V'), ((8, 3), 'H'), ((4, 9), 'V'), ((8, 2), 'H'), ((3, 10), 'H'), ((1, 3), 'H'), ((1, 8), 'V'), ((6, 11), 'V'), ((6, 1), 'V'), ((1, 3), 'V'), ((8, 8), 'H'), ((7, 10), 'H'), ((5, 2), 'H'), ((4, 8), 'H'), ((7, 9), 'H'), ((5, 1), 'V'), ((4, 10), 'H'), ((3, 1), 'V'), ((7, 9), 'V'), ((3, 3), 'V'), ((7, 11), 'V'), ((5, 3), 'H'), ((4, 11), 'V'), ((2, 4), 'V')}\n"
     ]
    }
   ],
   "execution_count": 215
  },
  {
   "metadata": {
    "ExecuteTime": {
     "end_time": "2025-04-21T00:49:25.311811Z",
     "start_time": "2025-04-21T00:49:25.298126Z"
    }
   },
   "cell_type": "code",
   "source": [
    "print(incomplete_tensor(0, 0.3)[0,1,0])\n",
    "print(incomplete_tensor(0, 0.3)[0,0,1])"
   ],
   "id": "499a6aea051d37e5",
   "outputs": [
    {
     "name": "stdout",
     "output_type": "stream",
     "text": [
      "0.11502173707608486\n",
      "0.11502173707608487\n"
     ]
    }
   ],
   "execution_count": 216
  },
  {
   "cell_type": "code",
   "source": [
    "import copy\n",
    "def flip_one_free(plaq_zero):\n",
    "    # if plaq_zero is a dict-of-dicts:\n",
    "    plaq = copy.deepcopy(plaq_zero)\n",
    "    i = random.choice([i for i in range (len(plaq_zero))])\n",
    "    # if it’s a list-of-dicts, you’d do:\n",
    "    # i = random.randrange(len(plaq_zero))\n",
    "    \n",
    "    inner_keys = list(plaq_zero[i].keys())\n",
    "    k = random.choice(inner_keys)\n",
    "    \n",
    "    # flip 0↔1\n",
    "    plaq[i][k] = 1 - plaq_zero[i][k]\n",
    "    \n",
    "    return plaq\n",
    "\n",
    "def is_on_hole_boundary(coord, n, kind=\"ABC\"):\n",
    "    \"\"\"\n",
    "    coord:  (r, c)\n",
    "    n:      lattice parameter\n",
    "    kind:   either \"ABC\" or \"AB\"\n",
    "    returns True if coord lies on the forbidden ring\n",
    "    for the given kind of plaquette.\n",
    "    \"\"\"\n",
    "    r, c = coord\n",
    "\n",
    "    # ---- these three edges are common to both AB and ABC ----\n",
    "    # right edge       c = 2*n,  r in [n .. 2*n-1]\n",
    "    # left edge        c = n-1,  r in [n .. 2*n-1]\n",
    "    # bottom edge      r = 2*n, c in [n+1 .. 2*n-1]\n",
    "    if (n <= r <= 2*n-1 and c == 2*n) or \\\n",
    "       (n <= r <= 2*n-1 and c == n-1) or \\\n",
    "       (r == 2*n   and n+1 <= c <= 2*n-1):\n",
    "        return True\n",
    "\n",
    "    # ---- the only difference is the “top” segment ----\n",
    "    if kind.upper() == \"ABC\":\n",
    "        # single horizontal strip at r = n-1\n",
    "        return (r == n-1 and n <= c <= 2*n-1)\n",
    "    else:\n",
    "        # two vertical strips at c = n or c = 2*n-1\n",
    "        # for r = 1 .. n-1\n",
    "        return (1 <= r <= n-1 and (c == n or c == 2*n-1))\n",
    "\n",
    "\n",
    "def flip_one(plaq_zero, n, kind=\"ABC\"):\n",
    "    \"\"\"\n",
    "    Randomly choose (i, coord) in plaq_zero; if coord is NOT on\n",
    "    the forbidden hole‑boundary (of the given kind), flip it.\n",
    "    \"\"\"\n",
    "    plaq = copy.deepcopy(plaq_zero)\n",
    "    while True:\n",
    "        i = random.choice([i for i in range (len(plaq_zero))])\n",
    "        choices = list(plaq_zero[i].keys())\n",
    "        k = random.choice(choices)\n",
    "        if not is_on_hole_boundary(k, n, kind):\n",
    "            plaq[i][k] = 1 - plaq_zero[i][k]\n",
    "            return plaq\n"
   ],
   "metadata": {
    "collapsed": false,
    "ExecuteTime": {
     "end_time": "2025-04-21T00:49:25.478386Z",
     "start_time": "2025-04-21T00:49:25.475101Z"
    }
   },
   "id": "6c7753e2ccca6ef",
   "outputs": [],
   "execution_count": 217
  },
  {
   "cell_type": "code",
   "source": "plaq_ABC_dict, w_abc = metropolis_step(n, plaq_ABC_dict, Pr_m_ABC_func, plaq_ABC, p, num_samples, \"ABC\")",
   "metadata": {
    "collapsed": false,
    "ExecuteTime": {
     "end_time": "2025-04-21T00:49:28.820487Z",
     "start_time": "2025-04-21T00:49:25.652505Z"
    }
   },
   "id": "3ff13218cea6f69a",
   "outputs": [],
   "execution_count": 218
  },
  {
   "cell_type": "code",
   "source": [
    "def initial_top_ABC(n, plaq_dict, plaq, p):\n",
    "    \"\"\"\n",
    "    Build a list of n tensors corresponding to the top row.\n",
    "    The leftmost and rightmost are boundary incomplete (shape (2,2)),\n",
    "    while the ones in between are boundary full (shape (2,2,2)).\n",
    "    \"\"\"\n",
    "    tensor_list = []\n",
    "    \n",
    "    m = plaq_dict[plaq[0]]\n",
    "    tensor_list.append(incomplete_tensor(m, p))  # left boundary, shape (2,2,2)\n",
    "    for i in range(n - 3):\n",
    "        m = plaq_dict[plaq[i+1]]\n",
    "        tensor_list.append(full_tensor(m, p))  # middle plaquettes, shape (2,2,2,2)\n",
    "    m = plaq_dict[plaq[n-2]]\n",
    "    tensor_list.append(inner_edge_corner_start_tensor(m, p))  # right boundary, shape (2,2,2)\n",
    "    return tensor_list\n",
    "\n",
    "def seq_ABC(n, ind, plaq_dict, plaq, p):\n",
    "    tensor_list = []\n",
    "    \n",
    "    m = plaq_dict[plaq[0]]\n",
    "    tensor_list.append(incomplete_tensor(m, p))  # left boundary, shape (2,2,2)\n",
    "    for i in range(n - 3):\n",
    "        m = plaq_dict[plaq[i+1]]\n",
    "        tensor_list.append(full_tensor(m, p))  # middle plaquettes, shape (2,2,2,2)\n",
    "    m = plaq_dict[plaq[n-2]]\n",
    "    if ind == 0 :\n",
    "        tensor_list.append(inner_edge_corner_start_tensor(m, p))\n",
    "    elif ind == n-1:\n",
    "        tensor_list.append(inner_edge_corner_end_tensor(m, p))\n",
    "    else:\n",
    "        tensor_list.append(inner_edge_tensor(m, p))  # right boundary, shape (2,2,2)\n",
    "    return tensor_list\n",
    "\n",
    "#@partial(jax.jit, static_argnums=(0,))\n",
    "def process_initial_ABC(n, plaq_dict, plaq, p):\n",
    "    \"\"\"\n",
    "    Contract a list of n top-boundary tensors from left to right.\n",
    "    The free vertical indices remain, and internal (horizontal) indices are contracted.\n",
    "    \"\"\"\n",
    "    # Define labels for the indices.\n",
    "    label = string.ascii_letters\n",
    "    # Initialize the tensor list.\n",
    "    tensor_list = initial_top_ABC(n, plaq_dict, plaq, p)\n",
    "    '''\n",
    "     0 - - n\n",
    "        |\n",
    "       2*n\n",
    "       to \n",
    "     0 - - n\n",
    "     1 - - n+1\n",
    "        .\n",
    "        .\n",
    "        .\n",
    "     n-1 -- 2*n-1   \n",
    "    '''\n",
    "    # Left boundary tensor: shape (2,2) → assign indices: [bottom_label[0], virtual_label[0]]\n",
    "    top_term = label[0]+label[n-1]+label[2*n-2] \n",
    "    top_tensor = tensor_list[0]\n",
    "    # Middle tensors (i = 2,..., n-1): shape (2,2,2,2)\n",
    "    for i in range(1, n - 2):\n",
    "        term = label[2*n-2] + label[i] + label[n + i - 1] + label[2*n - 1]\n",
    "        output_subscript = top_term[:-1]+ label[i] + label[n + i - 1] + label[2*n-1]\n",
    "        einsum_subscript = top_term + \",\" + term + \"->\" + output_subscript\n",
    "        #print(\"ini_middle:\", einsum_subscript)\n",
    "        top_tensor = jnp.einsum(einsum_subscript, top_tensor, tensor_list[i])\n",
    "        top_term = top_term[:-1]+ label[i] + label[n + i - 1] + label[2*n-2]\n",
    "\n",
    "    # Rightmost tensor: shape (2,2,2)\n",
    "    term = label[n - 2] + label[2*n-2] + label[2*n - 3]\n",
    "    output_subscript = top_term[:-1] + label[n-2] + label[2*n - 3]\n",
    "    einsum_subscript = top_term + \",\" + term + \"->\" + output_subscript\n",
    "    top_tensor = jnp.einsum(einsum_subscript, top_tensor, tensor_list[n - 2])\n",
    "    transpose_sub = output_subscript + \"->\" + label[:2*n-2]\n",
    "    #print(\"ini_last:\", einsum_subscript)\n",
    "    top_tensor = jnp.einsum(transpose_sub, top_tensor)\n",
    "\n",
    "    return top_tensor\n",
    "\n",
    "#@partial(jax.jit, static_argnums=(0,))\n",
    "def process_column_ABC(n, ind, plaq_dict, plaq, p, top_tensor):\n",
    "    \"\"\"\n",
    "    Contract the list of n bulk tensors with the top tensor from left to right.\n",
    "         _ 2n+1\n",
    "        |\n",
    "        2n\n",
    "       -n+1\n",
    "    \"\"\"\n",
    "    label = string.ascii_letters\n",
    "    tensor_list = seq_ABC(n, ind, plaq_dict, plaq, p)\n",
    "    top_terms = label[:2*n - 2]\n",
    "    term = label[n-1]  + label[2*n -2] + label[2*n - 1]\n",
    "    output_subscript = label[:n-1]+ label[2*n-1] + label[2*n-2] + label[n:2*n-2]\n",
    "    einsum_subscript = top_terms + \",\" + term + \"->\" + output_subscript\n",
    "    #print(\"col_begin:\", einsum_subscript)\n",
    "    top_tensor = jnp.einsum(einsum_subscript, top_tensor, tensor_list[0])\n",
    "    top_terms = label[:n] + label[2*n-2]+ label[n:2*n-2]\n",
    "\n",
    "    for i in range(1, n - 2):\n",
    "        term = label[n+i-1] + label[2*n-2] + label[2*n - 1] + label[2*n]\n",
    "        output_subscript = label[:n+i-1] + label[2*n - 1] + label[2*n]  + label[n+i:2*n-2]\n",
    "        einsum_subscript = top_terms + \",\" + term + \"->\" + output_subscript\n",
    "        top_tensor = jnp.einsum(einsum_subscript, top_tensor, tensor_list[i])\n",
    "        top_terms = label[:n+i] + label[2*n-2] + label[n+i:2*n-2]\n",
    "        #print(\"col_mid:\", einsum_subscript)\n",
    "    term = label[2*n - 3] + label[2*n - 2] + label[2*n - 1]\n",
    "    output_subscript = label[:2*n - 3] + label[2*n - 1]\n",
    "    einsum_subscript = top_terms + \",\" + term + \"->\" + output_subscript\n",
    "    #print(\"col_last:\", einsum_subscript)\n",
    "    final_tensor = jnp.einsum(einsum_subscript, top_tensor, tensor_list[n - 2])\n",
    "\n",
    "    return final_tensor\n",
    "\n",
    "#@partial(jax.jit, static_argnums=(0,))\n",
    "def process_ladder_ABC(n, plaq_dict, plaq, p, initial_tensor):\n",
    "    \"\"\"\n",
    "    Perform a ladder contraction over n tensors.\n",
    "        | (2n)\n",
    "      - (n+1)\n",
    "      - (n+2)\n",
    "        to\n",
    "        \n",
    "        - (2n+1\n",
    "        |(2n+2)\n",
    "       -(n+2)    \n",
    "    full tensor is labelled as \n",
    "       2\n",
    "    1    3 \n",
    "      4\n",
    "    \"\"\"\n",
    "    label = string.ascii_letters\n",
    "    tensor = initial_tensor\n",
    "    \n",
    "    for i in range(n - 2):\n",
    "        term1 = label[:2*n-2]\n",
    "        term2 = label[n-1] + label[2*n-2]\n",
    "        output_subscript = label[:n-1]+label[2*n-2] + label[n:2*n-2]\n",
    "        einsum_subscript = term1 + \",\" + term2 + \"->\" + output_subscript\n",
    "        tensor = jnp.einsum(einsum_subscript, tensor, corner_tensor(plaq_dict[i][plaq[i][0]], p))\n",
    "        term1 = output_subscript\n",
    "        #print(\"ladder_first:\", einsum_subscript)\n",
    "        for j in range(1, n - i - 1):\n",
    "            term2 = label[n + j - 1] + label[2*n-2] + label[2*n - 1] + label[2*n]\n",
    "            output_subscript = label[:n+j-2] + label[2*n - 1] + label [2*n] + label[n + j : 2*n-2]\n",
    "            einsum_str = term1 + \",\" + term2 + \"->\" + output_subscript\n",
    "            tensor = jnp.einsum(einsum_str, tensor, full_tensor(plaq_dict[i][plaq[i][j]], p))\n",
    "            #print(\"ladder_mid:\", einsum_str)\n",
    "            term1 = label[:n + j - 1] + label[2*n-2] + label[n+j:2*n-2]\n",
    "    term1 = label[:2*n-2]\n",
    "    corner = corner_tensor(plaq_dict[n-2][plaq[n-2][0]], p)\n",
    "    term2 = label[n-1] + label[2*n-2]\n",
    "    output_subscript = label[:n-1] + label[2*n-2] + label[n:2*n - 2]\n",
    "    einsum_str = term1 + \",\" + term2 + \"->\" + output_subscript\n",
    "    #print(\"ladder_last:\", einsum_str)\n",
    "    tensor = jnp.einsum(einsum_str, tensor, corner)\n",
    "\n",
    "    return tensor"
   ],
   "metadata": {
    "collapsed": false,
    "ExecuteTime": {
     "end_time": "2025-04-21T00:49:28.828961Z",
     "start_time": "2025-04-21T00:49:28.822838Z"
    }
   },
   "id": "e40f14e99afb5ea1",
   "outputs": [],
   "execution_count": 219
  },
  {
   "cell_type": "code",
   "source": [],
   "metadata": {
    "collapsed": false,
    "ExecuteTime": {
     "end_time": "2025-04-21T00:49:28.837088Z",
     "start_time": "2025-04-21T00:49:28.836034Z"
    }
   },
   "id": "9c4a9ca3f19ef13b",
   "outputs": [],
   "execution_count": null
  },
  {
   "metadata": {
    "ExecuteTime": {
     "end_time": "2025-04-21T00:49:28.846040Z",
     "start_time": "2025-04-21T00:49:28.844227Z"
    }
   },
   "cell_type": "code",
   "source": [
    "plaq_B_dict[0]"
   ],
   "id": "5c0eebfe9ab46535",
   "outputs": [
    {
     "data": {
      "text/plain": [
       "{(1, 5): 0, (2, 5): 0}"
      ]
     },
     "execution_count": 220,
     "metadata": {},
     "output_type": "execute_result"
    }
   ],
   "execution_count": 220
  },
  {
   "metadata": {
    "ExecuteTime": {
     "end_time": "2025-04-21T00:49:28.867799Z",
     "start_time": "2025-04-21T00:49:28.865732Z"
    }
   },
   "cell_type": "code",
   "source": "plaq_BC",
   "id": "c77b0e5e471790a8",
   "outputs": [
    {
     "data": {
      "text/plain": [
       "[[(7, 1), (7, 2)],\n",
       " [(6, 1), (6, 2)],\n",
       " [(5, 1), (5, 2)],\n",
       " [(4, 1), (4, 2)],\n",
       " [(3, 1), (3, 2), (3, 3)],\n",
       " [(2, 2), (2, 3)],\n",
       " [(1, 3)],\n",
       " [(1, 4), (2, 4)],\n",
       " [(1, 5), (2, 5)],\n",
       " [(1, 6), (2, 6)],\n",
       " [(1, 7), (2, 7)],\n",
       " [(1, 8), (2, 8), (3, 8)],\n",
       " [(2, 9), (3, 9)],\n",
       " [(3, 10)],\n",
       " [(4, 10), (4, 9)],\n",
       " [(5, 10), (5, 9)],\n",
       " [(6, 10), (6, 9)],\n",
       " [(7, 10), (7, 9)]]"
      ]
     },
     "execution_count": 221,
     "metadata": {},
     "output_type": "execute_result"
    }
   ],
   "execution_count": 221
  },
  {
   "cell_type": "code",
   "source": [
    "def initial_top_BC(n, plaq_dict, plaq, p):\n",
    "    \"\"\"\n",
    "    Build a list of n tensors corresponding to the top row.\n",
    "    The leftmost and rightmost are boundary incomplete (shape (2,2)),\n",
    "    while the ones in between are boundary full (shape (2,2,2)).\n",
    "    \"\"\"\n",
    "    tensor_list = []\n",
    "    \n",
    "    m = plaq_dict[plaq[0]]\n",
    "    tensor_list.append(corner_tensor(m, p))  # left boundary, shape (2,2)\n",
    "    for i in range(n - 4):\n",
    "        m = plaq_dict[plaq[i+1]]\n",
    "        tensor_list.append(incomplete_tensor(m, p))  # middle plaquettes, shape (2,2,2)\n",
    "    m = plaq_dict[plaq[n-3]]\n",
    "    tensor_list.append(corner_tensor(m, p))  # right boundary, shape (2,2)\n",
    "    return tensor_list\n",
    "\n",
    "def seq_BC(n, plaq_dict, plaq, p):\n",
    "    tensor_list = []\n",
    "    \n",
    "    m = plaq_dict[plaq[0]]\n",
    "    tensor_list.append(incomplete_tensor(m, p))  # left boundary, shape (2,2)\n",
    "    for i in range(n - 4):\n",
    "        m = plaq_dict[plaq[i+1]]\n",
    "        tensor_list.append(full_tensor(m, p))  # middle plaquettes, shape (2,2,2)\n",
    "    m = plaq_dict[plaq[n-3]]\n",
    "    tensor_list.append(incomplete_tensor(m, p))  # right boundary, shape (2,2)\n",
    "    return tensor_list\n",
    "\n",
    "#@partial(jax.jit, static_argnums=(0,))\n",
    "def process_initial_BC(n, plaq_dict, plaq, p):\n",
    "    \"\"\"\n",
    "    Contract a list of n top-boundary tensors from left to right.\n",
    "    The free vertical indices remain, and internal (horizontal) indices are contracted.\n",
    "    \"\"\"\n",
    "    # Define labels for the indices.\n",
    "    label = string.ascii_letters\n",
    "    # Initialize the tensor list.\n",
    "    tensor_list = initial_top_BC(n, plaq_dict, plaq, p)\n",
    "    #print(\"tensor_list:\", tensor_list)\n",
    "    # Left boundary tensor: shape (2,2) → assign indices: [bottom_label[0], virtual_label[0]]\n",
    "    top_term = label[0]+label[n - 2] \n",
    "    top_tensor = tensor_list[0]\n",
    "    # Middle tensors (i = 2,..., n-1): shape (2,2,2,2)\n",
    "    for i in range(1, n - 3):\n",
    "        term = label[n - 2] + label[i] + label[n - 1]\n",
    "        output_subscript = label[:i+1] + label[n - 1]\n",
    "        einsum_subscript = top_term + \",\" + term + \"->\" + output_subscript\n",
    "        #print(einsum_subscript)\n",
    "        top_tensor = jnp.einsum(einsum_subscript, top_tensor, tensor_list[i])\n",
    "        top_term = label[:i+1] + label[n - 2]\n",
    "\n",
    "    # Rightmost tensor: shape (2,2,2)\n",
    "    term = label[n - 2] + label[n - 3] \n",
    "    output_subscript = label[:n-2]\n",
    "    einsum_subscript = top_term + \",\" + term + \"->\" + output_subscript\n",
    "    #print(einsum_subscript)\n",
    "    top_tensor = jnp.einsum(einsum_subscript, top_tensor, tensor_list[n - 3])\n",
    "    #print(top_tensor)\n",
    "    return top_tensor\n",
    "\n",
    "def process_column_BC(n, plaq_dict, plaq, p, tensor):\n",
    "    \"\"\"\n",
    "    Process a column of tensors in the lattice.\n",
    "    \"\"\"\n",
    "    label = string.ascii_letters\n",
    "    tensor_list = seq_BC(n, plaq_dict, plaq, p)\n",
    "    tensor1 = tensor\n",
    "    \n",
    "    term1 = label[:(n-2)]\n",
    "    term2 = label[0] + label[n-2] + label[n-1]\n",
    "    output_str = label[n-1]+label[n-2]+label[1:n-2] \n",
    "    einsum_str = term1 + \",\" + term2 + \"->\" + output_str\n",
    "    #print(\"col_begin:\", einsum_str)\n",
    "    tensor1 = jnp.einsum(einsum_str, tensor1, tensor_list[0])\n",
    "    term1 = label[0] + label[n-2] + label[1:n-2]\n",
    "    for j in range(1, n-3):\n",
    "        term2 = label[j] + label[(n-2)] + label[n-1] + label[n]\n",
    "        output_str = label[:j] + label[n-1] + label[n] + label[(j+1):(n-2)]\n",
    "        einsum_str = term1 + \",\" + term2 + \"->\" + output_str\n",
    "        #print(\"col_mid:\", einsum_str)\n",
    "        tensor1 = jnp.einsum(einsum_str, tensor1, tensor_list[j])\n",
    "        term1 = label[:j+1] + label[(n-2)] + label[(j+1):(n-2)]\n",
    "\n",
    "    term2 = label[n-3]+label[(n-2)] + label[(n-1)] \n",
    "    output_str = label[:(n-3)] + label[n-1]\n",
    "    einsum_str = term1 + \",\" + term2 + \"->\" + output_str\n",
    "    #print(\"col_end:\", einsum_str)\n",
    "    tensor1 = jnp.einsum(einsum_str, tensor1, tensor_list[n-3])\n",
    "    return tensor1\n",
    "\n",
    "\n",
    "    \n",
    "def process_ladder_BC(n, plaq_dict, plaq, p, tensor):\n",
    "    label = string.ascii_letters\n",
    "    for i in range(n - 2):\n",
    "        term1 = label[:(n-2)]\n",
    "        term2 = label[0] + label[(n-2)]\n",
    "        output_subscript = label[n-2] + label[1:n-2]\n",
    "        einsum_subscript = term1 + \",\" + term2 + \"->\" + output_subscript\n",
    "        #print(\"ladder_begin:\", einsum_subscript)\n",
    "        tensor = jnp.einsum(einsum_subscript, tensor, corner_tensor(plaq_dict[i][plaq[i][0]], p))\n",
    "        term1 = output_subscript\n",
    "        j = 0\n",
    "        for j in range(1, n - i - 2):\n",
    "\n",
    "            term2 = label[j] + label[(n-2)] + label[n-1] + label[n]\n",
    "            output_subscript = label[:j-1] + label[n-1] + label [n] + label[(j+1):(n-2)]\n",
    "            einsum_str = term1 + \",\" + term2 + \"->\" + output_subscript\n",
    "            #print(\"bulk_ladder:\",  einsum_str)\n",
    "            tensor = jnp.einsum(einsum_str, tensor, full_tensor(plaq_dict[i][plaq[i][j]], p))\n",
    "            term1 = label[:j] + label[(n-2)] + label[j+1:(n-2)]\n",
    "            \n",
    "        if i == 0:\n",
    "            term2 = label[n-2] + label[n-3]\n",
    "            output_subscript = label[:(n-2)]\n",
    "            einsum_str = term1 + \",\" + term2 + \"->\" + output_subscript\n",
    "            #print(\"end_first_col:\", einsum_str)\n",
    "            tensor = jnp.einsum(einsum_str, tensor, corner_tensor(plaq_dict[i][plaq[i][n-2]], p))\n",
    "            term1 = label[:(n-2)]\n",
    "        else:\n",
    "            term2 = label[j+1]+label[(n-2)]+label[n-1]+label[n]\n",
    "            output_subscript = label[:j] + label[n-1] + label [n] + label[j+2:n-2]\n",
    "            einsum_str = term1 + \",\" + term2 + \"->\" + output_subscript\n",
    "            #print(\"end_col:\", einsum_str)\n",
    "            tensor = jnp.einsum(einsum_str, tensor, full_tensor(plaq_dict[i][plaq[i][n-i-2]], p))\n",
    "            term1 = label[:(n-2)]\n",
    "\n",
    "    term2 = label[0] + label[(n-2)]\n",
    "    output_subscript = label[n-2]+label[1:(n-2)]\n",
    "    einsum_str = term1 + \",\" + term2 + \"->\" + output_subscript\n",
    "    #print(einsum_str)\n",
    "    tensor = jnp.einsum(einsum_str, tensor, corner_tensor(plaq_dict[n-2][plaq[n-2][0]], p))\n",
    "\n",
    "    return tensor"
   ],
   "metadata": {
    "collapsed": false,
    "ExecuteTime": {
     "end_time": "2025-04-21T00:49:28.893085Z",
     "start_time": "2025-04-21T00:49:28.887218Z"
    }
   },
   "id": "86d2609092603ed2",
   "outputs": [],
   "execution_count": 222
  },
  {
   "metadata": {
    "ExecuteTime": {
     "end_time": "2025-04-21T00:49:31.492029Z",
     "start_time": "2025-04-21T00:49:28.906437Z"
    }
   },
   "cell_type": "code",
   "source": "plaq_AC_dict, w_ac = metropolis_step(n, plaq_AC_dict, Pr_m_AC_func, plaq_AC, p, num_samples, \"AC\")",
   "id": "e6be633316c0b7bc",
   "outputs": [],
   "execution_count": 223
  },
  {
   "cell_type": "code",
   "source": [
    "def initial_top_AC (n, plaq_dict, plaq, p):\n",
    "    \"\"\"\n",
    "    Build a list of n tensors corresponding to the top row.\n",
    "    The leftmost and rightmost are boundary incomplete (shape (2,2)),\n",
    "    while the ones in between are boundary full (shape (2,2,2)).\n",
    "    \"\"\"\n",
    "    tensor_list = []\n",
    "    \n",
    "    m = plaq_dict[plaq[0]]\n",
    "    tensor_list.append(inner_corner_start_tensor(m, p))  # left boundary, shape (2,2)\n",
    "    for i in range(n - 3):\n",
    "        m = plaq_dict[plaq[i+1]]\n",
    "        tensor_list.append(inner_edge_tensor(m, p))  # middle plaquettes, shape (2,2,2)\n",
    "    m = plaq_dict[plaq[n-2]]\n",
    "    tensor_list.append(inner_corner_end_tensor(m, p))  # right boundary, shape (2,2)\n",
    "    return tensor_list\n",
    "\n",
    "def seq_AC(n, ind, plaq_dict, plaq, p):\n",
    "    tensor_list = []\n",
    "    \n",
    "    m = plaq_dict[plaq[0]]\n",
    "    tensor_list.append(incomplete_tensor(m, p))  # left boundary, shape (2,2,2)\n",
    "    for i in range(n - 3):\n",
    "        m = plaq_dict[plaq[i+1]]\n",
    "        tensor_list.append(full_tensor(m, p))  # middle plaquettes, shape (2,2,2,2)\n",
    "    m = plaq_dict[plaq[n-2]]\n",
    "    if ind == 0:\n",
    "        tensor_list.append(inner_edge_corner_start_tensor(m, p))\n",
    "    elif ind == n-1:\n",
    "        tensor_list.append(inner_edge_corner_end_tensor(m, p))\n",
    "    else:\n",
    "        tensor_list.append(inner_edge_tensor(m, p))  # right boundary, shape (2,2,2)\n",
    "\n",
    "    return tensor_list\n",
    "\n",
    "#@partial(jax.jit, static_argnums=(0,))\n",
    "def process_initial_AC(n, plaq_dict, plaq, p):\n",
    "    \"\"\"\n",
    "    Contract a list of n top-boundary tensors from left to right.\n",
    "    The free vertical indices remain, and internal (horizontal) indices are contracted.\n",
    "    \"\"\"\n",
    "    # Define labels for the indices.\n",
    "    label = string.ascii_letters\n",
    "    # Initialize the tensor list.\n",
    "    tensor_list = initial_top_AC(n, plaq_dict, plaq, p)\n",
    "\n",
    "    # Left boundary tensor: shape (2,2) → assign indices: [bottom_label[0], virtual_label[0]]\n",
    "    top_term = label[0]+label[n - 1] \n",
    "    top_tensor = tensor_list[0]\n",
    "    # Middle tensors (i = 2,..., n-1): shape (2,2,2,2)\n",
    "    for i in range(1, n - 2):\n",
    "        term = label[n - 1] + label[i] + label[n]\n",
    "        output_subscript = label[:i+1] + label[n]\n",
    "        einsum_subscript = top_term + \",\" + term + \"->\" + output_subscript\n",
    "        #print(\"initial:\", einsum_subscript)\n",
    "        top_tensor = jnp.einsum(einsum_subscript, top_tensor, tensor_list[i])\n",
    "        top_term = label[:i+1] + label[n - 1]\n",
    "\n",
    "    # Rightmost tensor: shape (2,2,2)\n",
    "    term = label[n - 1] + label[n - 2] \n",
    "    output_subscript = label[:n-1]\n",
    "    einsum_subscript = top_term + \",\" + term + \"->\" + output_subscript\n",
    "    top_tensor = jnp.einsum(einsum_subscript, top_tensor, tensor_list[n - 2])\n",
    "    #print(\"initial_last:\", einsum_subscript)\n",
    "    return top_tensor\n",
    "\n",
    "def process_column_AC(n, ind, plaq_dict, plaq, p, tensor):\n",
    "    \"\"\"\n",
    "    Process a column of tensors in the lattice.\n",
    "    \"\"\"\n",
    "    label = string.ascii_letters\n",
    "    tensor_list = seq_AC(n, ind, plaq_dict, plaq, p)\n",
    "    tensor1 = tensor\n",
    "    \n",
    "    term1 = label[:(n-1)]\n",
    "    term2 = label[0] + label[n-1] + label[n]\n",
    "    output_str = label[n]+label[n-1]+label[1:n-1] \n",
    "    einsum_str = term1 + \",\" + term2 + \"->\" + output_str\n",
    "    #print(\"column_begin:\", einsum_str)\n",
    "    tensor1 = jnp.einsum(einsum_str, tensor1, tensor_list[0])\n",
    "    term1 = label[0] + label[n-1] + label[1:n-1]\n",
    "\n",
    "    for j in range(1, n-2):\n",
    "        term2 = label[j] + label[(n-1)] + label[n] + label[n+1]\n",
    "        output_str = label[:j] + label[n] + label[n+1] + label[(j+1):(n-1)]\n",
    "        einsum_str = term1 + \",\" + term2 + \"->\" + output_str\n",
    "        #print(\"column_bulk:\", einsum_str)\n",
    "        tensor1 = jnp.einsum(einsum_str, tensor1, tensor_list[j])\n",
    "        term1 = label[:j+1] + label[(n-1)] + label[(j+1):(n-1)]\n",
    "    term2 = label[n-2]+label[(n-1)] + label[n] \n",
    "    output_str = label[:(n-2)] + label[n]\n",
    "    einsum_str = term1 + \",\" + term2 + \"->\" + output_str\n",
    "    #print(\"column_last:\", einsum_str)\n",
    "    tensor1 = jnp.einsum(einsum_str, tensor1, tensor_list[n-2])\n",
    "    return tensor1\n",
    "    \n",
    "def process_ladder_AC(n, plaq_dict, plaq, p, tensor):\n",
    "    # Only here the plaq_dict is a list of dict.\n",
    "    label = string.ascii_letters\n",
    "    for i in range(n - 2):\n",
    "        term1 = label[:(n-1)]\n",
    "        term2 = label[0] + label[(n-1)]\n",
    "        output_subscript = label[n-1] + label[1:n-1]\n",
    "        einsum_subscript = term1 + \",\" + term2 + \"->\" + output_subscript\n",
    "        tensor = jnp.einsum(einsum_subscript, tensor, corner_tensor(plaq_dict[i][plaq[i][0]], p))\n",
    "        term1 = output_subscript\n",
    "        #print(\"ladder_begin:\", einsum_subscript)\n",
    "        for j in range(1, n - i - 1):\n",
    "            term2 = label[j] + label[n-1] + label[n] + label[n+1]\n",
    "            output_subscript = label[:j-1] + label[n+1] + label [n] + label[(j+1):(n-1)]\n",
    "            einsum_str = term1 + \",\" + term2 + \"->\" + output_subscript\n",
    "            #print(\"ladder_bulk:\", einsum_str)\n",
    "            tensor = jnp.einsum(einsum_str, tensor, full_tensor(plaq_dict[i][plaq[i][j]], p))\n",
    "            term1 = label[:j] + label[(n-1)] + label[j+1:(n-1)]\n",
    "    term1 = label[:(n-1)]\n",
    "    term2 = label[0] + label[n-1]\n",
    "    output_subscript = label[n-1]+label[1:(n-1)]\n",
    "    einsum_str = term1 + \",\" + term2 + \"->\" + output_subscript\n",
    "    #print(\"ladder_last:\", einsum_str)\n",
    "    tensor = jnp.einsum(einsum_str, tensor, corner_tensor(plaq_dict[n-2][plaq[n-2][0]], p))\n",
    "\n",
    "    return tensor\n",
    "\n",
    "def last_contraction_AC(n, tensor):\n",
    "    label = string.ascii_letters\n",
    "    term1 = label[:(n-1)]\n",
    "    term2 = label[0] + label[n-1]\n",
    "    output_subscript = label[n-1]+label[1:(n-1)]\n",
    "    einsum_str = term1 + \",\" + term2 + \"->\" + output_subscript\n",
    "    #print(\"last_contraction_first:\", einsum_str)\n",
    "    tensor = jnp.einsum(einsum_str, tensor, inner_corner_start_tensor(0, p))\n",
    "    term1 = output_subscript\n",
    "    for i in range(1, n-2):\n",
    "        term2 = label[n-1]+label[i]+label[n]\n",
    "        output_subscript = label[n]+label[i+1:n-1]\n",
    "        einsum_str = term1 + \",\" + term2 + \"->\" + output_subscript\n",
    "        #print(\"last_contraction_col:\", einsum_str)\n",
    "        tensor = jnp.einsum(einsum_str, tensor, inner_edge_tensor(0, p))\n",
    "        term1 = label[n-1]+label[i+1:n-1]\n",
    "    return jnp.sum(tensor*inner_corner_end_tensor(0, p))"
   ],
   "metadata": {
    "collapsed": false,
    "ExecuteTime": {
     "end_time": "2025-04-21T00:49:31.506411Z",
     "start_time": "2025-04-21T00:49:31.500143Z"
    }
   },
   "id": "665e521c2f89e0ac",
   "outputs": [],
   "execution_count": 224
  },
  {
   "metadata": {
    "ExecuteTime": {
     "end_time": "2025-04-21T00:49:31.515833Z",
     "start_time": "2025-04-21T00:49:31.514303Z"
    }
   },
   "cell_type": "code",
   "source": [
    "\n",
    "def n_tensor_product_shape_2(n, p):\n",
    "    vec = jnp.sqrt(jnp.array([1 - p, p]))\n",
    "    result = vec\n",
    "    for _ in range(n - 1):\n",
    "        result = jnp.tensordot(result, vec, axes=0)\n",
    "    return result"
   ],
   "id": "f5f599b5e6a63a13",
   "outputs": [],
   "execution_count": 225
  },
  {
   "metadata": {
    "ExecuteTime": {
     "end_time": "2025-04-21T00:49:31.532482Z",
     "start_time": "2025-04-21T00:49:31.529660Z"
    }
   },
   "cell_type": "code",
   "source": "plaq_AC",
   "id": "759a512fc5077ec7",
   "outputs": [
    {
     "data": {
      "text/plain": [
       "[[(1, 7), (2, 7), (3, 7)],\n",
       " [(1, 8), (2, 8), (3, 8)],\n",
       " [(2, 9), (3, 9)],\n",
       " [(3, 10)],\n",
       " [(4, 10), (4, 9), (4, 8)],\n",
       " [(5, 10), (5, 9), (5, 8)],\n",
       " [(6, 10), (6, 9), (6, 8)],\n",
       " [(7, 10), (7, 9), (7, 8)],\n",
       " [(8, 10), (8, 9), (8, 8)],\n",
       " [(9, 9), (9, 8)],\n",
       " [(10, 8)],\n",
       " [(10, 7), (9, 7), (8, 7)],\n",
       " [(10, 6), (9, 6), (8, 6)],\n",
       " [(10, 5), (9, 5), (8, 5)],\n",
       " [(10, 4), (9, 4), (8, 4)],\n",
       " [(10, 3), (9, 3), (8, 3)],\n",
       " [(9, 2), (8, 2)],\n",
       " [(8, 1)],\n",
       " [(7, 1), (7, 2), (7, 3)],\n",
       " [(6, 1), (6, 2), (6, 3)],\n",
       " [(5, 1), (5, 2), (5, 3)],\n",
       " [(4, 1), (4, 2), (4, 3)],\n",
       " [(3, 1), (3, 2), (3, 3)],\n",
       " [(2, 2), (2, 3)],\n",
       " [(1, 3)],\n",
       " [(1, 4), (2, 4), (3, 4)]]"
      ]
     },
     "execution_count": 226,
     "metadata": {},
     "output_type": "execute_result"
    }
   ],
   "execution_count": 226
  },
  {
   "cell_type": "code",
   "source": [
    "def Pr_m_B_func(n, plaq_dict, plaq, p):\n",
    "    ini_tensor = process_initial_BC(n, plaq_dict[0], plaq[0], p)\n",
    "    for i in range(1, n-2):\n",
    "        ini_tensor = process_column_BC(n, plaq_dict[i], plaq[i], p, ini_tensor)\n",
    "    Pr_m_B = jnp.sum(ini_tensor)\n",
    "    return Pr_m_B\n",
    "\n",
    "def Pr_m_C_func(n, plaq_dict, plaq, p):\n",
    "    ini_tensor1 = process_initial_BC(n, plaq_dict[0], plaq[0], p)\n",
    "    for i in range(1, n):\n",
    "        ini_tensor1 = process_column_BC(n, plaq_dict[i], plaq[i], p, ini_tensor1)\n",
    "    ini_tensor1 = process_ladder_BC(n, plaq_dict[n:2*n-1], plaq[n:2*n-1], p, ini_tensor1)\n",
    "\n",
    "    ini_tensor2 = process_initial_BC(n, plaq_dict[2*n-1], plaq[2*n-1], p)\n",
    "    for i in range(n-1):\n",
    "        ini_tensor2 = process_column_BC(n, plaq_dict[2*n+i], plaq[2*n+i], p, ini_tensor2)\n",
    "    ini_tensor2 = process_ladder_BC(n, plaq_dict[3*n-1:4*n-2], plaq[3*n-1:4*n-2], p, ini_tensor2)\n",
    "    revision_vec = n_tensor_product_shape_2(n-2, p)\n",
    "    Pr_m_C = jnp.sum(ini_tensor1*revision_vec)*jnp.sum(ini_tensor2*revision_vec)\n",
    "    return Pr_m_C\n",
    "\n",
    "def Pr_m_BC_func(n, plaq_dict, plaq, p):\n",
    "    ini_tensor = process_initial_BC(n, plaq_dict[0], plaq[0], p)\n",
    "    #print(\"ini_BC:\", ini_tensor)\n",
    "    for i in range(1, n):\n",
    "        ini_tensor = process_column_BC(n, plaq_dict[i], plaq[i], p, ini_tensor)\n",
    "        #print(\"col_BC:\", ini_tensor)\n",
    "    ini_tensor = process_ladder_BC(n, plaq_dict[n:2*n-1], plaq[n:2*n-1], p, ini_tensor)\n",
    "    #print(\"ladder_BC:\", ini_tensor)\n",
    "    for i in range(n):\n",
    "        ini_tensor = process_column_BC(n, plaq_dict[2*n-1+i], plaq[2*n-1+i], p, ini_tensor)\n",
    "        #print(\"col:\", ini_tensor)\n",
    "    ini_tensor = process_ladder_BC(n, plaq_dict[3*n-1:4*n-2], plaq[3*n-1:4*n-2], p, ini_tensor)\n",
    "    for i in range(n):\n",
    "        ini_tensor = process_column_BC(n, plaq_dict[4*n-2+i], plaq[4*n-2+i], p, ini_tensor)\n",
    "    \n",
    "    revision_vec = n_tensor_product_shape_2(n-2, p)\n",
    "    Pr_m_BC = jnp.sum(ini_tensor*revision_vec)\n",
    "    \n",
    "    return Pr_m_BC\n",
    "\n",
    "def Pr_m_AC_func(n, plaq_dict, plaq, p):\n",
    "    ini_tensor = process_initial_AC(n, plaq_dict[0], plaq[0], p)\n",
    "    #print(\"ini_before_ladder:\", ini_tensor)\n",
    "    ini_tensor = process_ladder_AC(n, plaq_dict[1:n], plaq[1:n], p, ini_tensor)\n",
    "    #print(\"ini_after_ladder:\", ini_tensor)\n",
    "    for i in range(n):\n",
    "        ini_tensor = process_column_AC(n, i, plaq_dict[n+i], plaq[n+i], p, ini_tensor)\n",
    "    ini_tensor = process_ladder_AC(n, plaq_dict[2*n:3*n-1], plaq[2*n:3*n-1], p, ini_tensor)\n",
    "    for i in range(n):\n",
    "        ini_tensor = process_column_AC(n, i, plaq_dict[3*n-1+i], plaq[3*n-1+i], p, ini_tensor)\n",
    "    ini_tensor = process_ladder_AC(n, plaq_dict[4*n-1:5*n-2], plaq[4*n-1:5*n-2], p, ini_tensor)\n",
    "    for i in range(n):\n",
    "        ini_tensor = process_column_AC(n, i, plaq_dict[5*n-2+i], plaq[5*n-2+i], p, ini_tensor)\n",
    "    ini_tensor = process_ladder_AC(n, plaq_dict[6*n-2:7*n-3], plaq[6*n-2:7*n-3], p, ini_tensor)\n",
    "    Pr_m_AC = last_contraction_AC(n, ini_tensor)\n",
    "    \n",
    "    return Pr_m_AC\n",
    "\n",
    "def Pr_m_ABC_func(n, plaq_dict, plaq, p):\n",
    "    label = string.ascii_letters\n",
    "    ini_tensor = process_initial_ABC(n, plaq_dict[0], plaq[0], p)\n",
    "    for i in range(1, n):\n",
    "        ini_tensor = process_column_ABC(n, i, plaq_dict[i], plaq[i], p, ini_tensor)\n",
    "    ini_tensor = process_ladder_ABC(n, plaq_dict[n:2*n-1], plaq[n:2*n-1], p, ini_tensor)\n",
    "    for i in range(n):\n",
    "        ini_tensor = process_column_ABC(n, i, plaq_dict[2*n-1+i], plaq[2*n-1+i], p, ini_tensor)\n",
    "    ini_tensor = process_ladder_ABC(n, plaq_dict[3*n-1:4*n-2], plaq[3*n-1:4*n-2], p, ini_tensor)\n",
    "    for i in range(n):\n",
    "        ini_tensor = process_column_ABC(n, i, plaq_dict[4*n-2+i], plaq[4*n-2+i], p, ini_tensor)\n",
    "    ini_tensor = process_ladder_ABC(n, plaq_dict[5*n-2:6*n-3], plaq[5*n-2:6*n-3], p, ini_tensor)\n",
    "    for i in range(n):\n",
    "        ini_tensor = process_column_ABC(n, i, plaq_dict[6*n-3+i], plaq[6*n-3+i], p, ini_tensor)\n",
    "    ini_tensor = process_ladder_ABC(n, plaq_dict[7*n-3:8*n-4], plaq[7*n-3:8*n-4], p, ini_tensor)\n",
    "    einsum_str = label[:n-1]+label[:n-1] + \"->\" \n",
    "    return jnp.einsum(einsum_str, ini_tensor)\n"
   ],
   "metadata": {
    "collapsed": false,
    "ExecuteTime": {
     "end_time": "2025-04-21T00:49:31.545881Z",
     "start_time": "2025-04-21T00:49:31.540451Z"
    }
   },
   "id": "916e55a54ab69dcc",
   "outputs": [],
   "execution_count": 227
  },
  {
   "cell_type": "code",
   "source": [
    "def metropolis_step(n, plaq_dict, Pr_func, plaq, p, num_samples, kind):\n",
    "    \"\"\"\n",
    "    Perform num_samples Metropolis updates on plaq_dict.\n",
    "    \n",
    "    Args:\n",
    "      n             : system size\n",
    "      plaq_dict     : current configuration (dict-of-dicts)\n",
    "      Pr_func       : function signature Pr = Pr_func(n, config, plaq, p)\n",
    "      plaq          : any auxiliary data needed by Pr_func\n",
    "      p             : model parameter\n",
    "      num_samples   : how many proposed flips to attempt\n",
    "\n",
    "    Returns:\n",
    "      plaq_dict_new : updated configuration after all steps\n",
    "      w_list        : list of log‑probabilities at each step (length num_samples+1)\n",
    "    \"\"\"\n",
    "    w_list = []\n",
    "    Pr0 = Pr_func(n, plaq_dict, plaq, p)\n",
    "    w_list.append(jnp.log(Pr0))\n",
    "\n",
    "    for _ in range(num_samples):\n",
    "        if kind in (\"C\", \"BC\"):\n",
    "            candidate = flip_one_free(plaq_dict)\n",
    "        else:\n",
    "            candidate = flip_one(plaq_dict, n, kind)\n",
    "        Pr  = Pr_func(n, candidate, plaq, p)\n",
    "        # accept with Metropolis criterion\n",
    "        if random.random() < (Pr / Pr0):\n",
    "            #print(\"accept\")\n",
    "            plaq_dict = candidate\n",
    "            Pr0       = Pr\n",
    "        '''\n",
    "        else:\n",
    "            print(\"reject\")\n",
    "        '''\n",
    "        w_list.append(jnp.log(Pr0))\n",
    "\n",
    "    return plaq_dict, w_list\n"
   ],
   "metadata": {
    "collapsed": false,
    "ExecuteTime": {
     "end_time": "2025-04-21T00:49:31.999854Z",
     "start_time": "2025-04-21T00:49:31.996342Z"
    }
   },
   "id": "af0f37ea7f6040a3",
   "outputs": [],
   "execution_count": 228
  },
  {
   "cell_type": "code",
   "source": [
    "CMI = []\n",
    "for p in jnp.linspace(0.0, 0.5, 10):\n",
    "    num_samples = 100\n",
    "    keyC, keyBC, keyAC, keyABC = jax.random.PRNGKey(0), jax.random.PRNGKey(1), jax.random.PRNGKey(2), jax.random.PRNGKey(3)\n",
    "    w_c, w_bc, w_ac, w_abc = [], [], [], []\n",
    "\n",
    "    plaq_ABC_dict = [ dict.fromkeys(row, 0) for row in plaq_ABC ]\n",
    "    plaq_B_dict = [ dict.fromkeys(row, 0) for row in plaq_B ]\n",
    "    plaq_C_dict = [dict.fromkeys(row, 0) for row in plaq_C ]\n",
    "    plaq_BC_dict = [ dict.fromkeys(row, 0) for row in plaq_BC ]\n",
    "    plaq_AC_dict = [ dict.fromkeys(row, 0) for row in plaq_AC ]\n",
    "\n",
    "    plaq_C_dict,  w_c = metropolis_step(n, plaq_C_dict, Pr_m_C_func, plaq_C, p, num_samples, \"C\")\n",
    "\n",
    "    plaq_BC_dict, w_bc = metropolis_step(n, plaq_BC_dict, Pr_m_BC_func, plaq_BC, p, num_samples, \"BC\")\n",
    "\n",
    "    plaq_AC_dict, w_ac = metropolis_step(n, plaq_AC_dict, Pr_m_AC_func, plaq_AC, p, num_samples, \"AC\")\n",
    "    plaq_ABC_dict, w_abc = metropolis_step(n, plaq_ABC_dict, Pr_m_ABC_func, plaq_ABC, p, num_samples, \"ABC\")\n",
    "    CMI.append(-jnp.sum(jnp.array(w_ac) + jnp.array(w_bc) - jnp.array(w_abc) - jnp.array(w_c))/(num_samples+1)/jnp.log(2))"
   ],
   "metadata": {
    "collapsed": false,
    "jupyter": {
     "is_executing": true
    },
    "ExecuteTime": {
     "start_time": "2025-04-21T00:49:49.233134Z"
    }
   },
   "id": "cc983b5989fec1ca",
   "outputs": [],
   "execution_count": null
  },
  {
   "cell_type": "code",
   "source": "plt.plot(jnp.linspace(0.0, 0.5, 10), jnp.array(CMI))",
   "metadata": {
    "collapsed": false,
    "ExecuteTime": {
     "end_time": "2025-04-21T00:34:59.981531Z",
     "start_time": "2025-04-21T00:34:59.952277Z"
    }
   },
   "id": "d4c0ce426c6edde9",
   "outputs": [
    {
     "data": {
      "text/plain": [
       "[<matplotlib.lines.Line2D at 0x124e76850>]"
      ]
     },
     "execution_count": 205,
     "metadata": {},
     "output_type": "execute_result"
    },
    {
     "data": {
      "text/plain": [
       "<Figure size 640x480 with 1 Axes>"
      ],
      "image/png": "[encoded data removed]"
     },
     "metadata": {},
     "output_type": "display_data"
    }
   ],
   "execution_count": 205
  },
  {
   "metadata": {
    "ExecuteTime": {
     "end_time": "2025-04-21T00:39:26.668631Z",
     "start_time": "2025-04-21T00:39:26.597406Z"
    }
   },
   "cell_type": "code",
   "source": "plt.plot(jnp.linspace(0.0, 0.5, 10), (jnp.array(CMI)+jnp.array(CMI_))/2)",
   "id": "c94c3eeca0dce933",
   "outputs": [
    {
     "data": {
      "text/plain": [
       "[<matplotlib.lines.Line2D at 0x124eef890>]"
      ]
     },
     "execution_count": 207,
     "metadata": {},
     "output_type": "execute_result"
    },
    {
     "data": {
      "text/plain": [
       "<Figure size 640x480 with 1 Axes>"
      ],
      "image/png": "[encoded data removed]"
     },
     "metadata": {},
     "output_type": "display_data"
    }
   ],
   "execution_count": 207
  },
  {
   "cell_type": "code",
   "source": [
    "CMI___, CMI__ = CMI__[:10], CMI__[10:20]\n",
    "stack = jnp.stack([jnp.array(CMI), jnp.array(CMI_), jnp.array(CMI__)], axis = 0)\n",
    "CMI_avg = jnp.mean(stack, axis = 0)\n",
    "CMI_std = jnp.sqrt(jnp.var(stack, axis = 0))\n",
    "\n",
    "plt.errorbar(jnp.linspace(0.0, 0.5, 10), CMI_avg, yerr = CMI_std)"
   ],
   "metadata": {
    "collapsed": false,
    "ExecuteTime": {
     "end_time": "2025-04-21T00:48:23.816092Z",
     "start_time": "2025-04-21T00:48:23.777118Z"
    }
   },
   "id": "a4c934bc70a100d7",
   "outputs": [
    {
     "data": {
      "text/plain": [
       "<ErrorbarContainer object of 3 artists>"
      ]
     },
     "execution_count": 214,
     "metadata": {},
     "output_type": "execute_result"
    },
    {
     "data": {
      "text/plain": [
       "<Figure size 640x480 with 1 Axes>"
      ],
      "image/png": "[encoded data removed]"
     },
     "metadata": {},
     "output_type": "display_data"
    }
   ],
   "execution_count": 214
  },
  {
   "cell_type": "code",
   "outputs": [
    {
     "name": "stdout",
     "output_type": "stream",
     "text": [
      "plaq_dict_m [{(1, 6): 0, (2, 6): 0, (3, 6): 0}, {(1, 7): 0, (2, 7): 0, (3, 7): 0}, {(1, 8): 0, (2, 8): 0, (3, 8): 0}]\n"
     ]
    },
    {
     "ename": "TracerBoolConversionError",
     "evalue": "Attempted boolean conversion of traced array with shape bool[]..\nThe error occurred while tracing the function step at C:\\Users\\Administrator\\AppData\\Local\\Temp\\ipykernel_32880\\2635678145.py:23 for scan. This concrete value was not available in Python because it depends on the value of the argument carry[0][0][(1, 6)].\nSee https://jax.readthedocs.io/en/latest/errors.html#jax.errors.TracerBoolConversionError",
     "output_type": "error",
     "traceback": [
      "\u001B[1;31m---------------------------------------------------------------------------\u001B[0m",
      "\u001B[1;31mTracerBoolConversionError\u001B[0m                 Traceback (most recent call last)",
      "Cell \u001B[1;32mIn[107], line 11\u001B[0m\n\u001B[0;32m      8\u001B[0m AC_sampler \u001B[38;5;241m=\u001B[39m make_metropolis(Pr_m_AC_func, plaq_AC, \u001B[38;5;124m\"\u001B[39m\u001B[38;5;124mAC\u001B[39m\u001B[38;5;124m\"\u001B[39m)\n\u001B[0;32m      9\u001B[0m ABC_sampler \u001B[38;5;241m=\u001B[39m make_metropolis(Pr_m_ABC_func, plaq_ABC, \u001B[38;5;124m\"\u001B[39m\u001B[38;5;124mABC\u001B[39m\u001B[38;5;124m\"\u001B[39m)\n\u001B[1;32m---> 11\u001B[0m plaq_B_dict,  w_b  \u001B[38;5;241m=\u001B[39m \u001B[43mB_sampler\u001B[49m\u001B[43m(\u001B[49m\u001B[43mn\u001B[49m\u001B[43m,\u001B[49m\u001B[43m \u001B[49m\u001B[43mplaq_B_dict\u001B[49m\u001B[43m,\u001B[49m\u001B[43m \u001B[49m\u001B[43mp\u001B[49m\u001B[43m,\u001B[49m\u001B[43m \u001B[49m\u001B[43mnum_samples\u001B[49m\u001B[43m,\u001B[49m\u001B[43m \u001B[49m\u001B[43mkeyB\u001B[49m\u001B[43m)\u001B[49m\n\u001B[0;32m     12\u001B[0m plaq_BC_dict, w_bc \u001B[38;5;241m=\u001B[39m BC_sampler(n, plaq_BC_dict, p, num_samples, keyBC)\n\u001B[0;32m     13\u001B[0m plaq_AC_dict, w_ac \u001B[38;5;241m=\u001B[39m AC_sampler(n, plaq_AC_dict, p, num_samples, keyAC)\n",
      "Cell \u001B[1;32mIn[106], line 39\u001B[0m, in \u001B[0;36mmake_metropolis.<locals>.metropolis_step\u001B[1;34m(n, plaq_dict, p, num_samples, keym)\u001B[0m\n\u001B[0;32m     36\u001B[0m     w \u001B[38;5;241m=\u001B[39m jnp\u001B[38;5;241m.\u001B[39mlog(new_Pr)\n\u001B[0;32m     37\u001B[0m     \u001B[38;5;28;01mreturn\u001B[39;00m (new_config, new_Pr), w\n\u001B[1;32m---> 39\u001B[0m (final_config, _), w_scan \u001B[38;5;241m=\u001B[39m \u001B[43mlax\u001B[49m\u001B[38;5;241;43m.\u001B[39;49m\u001B[43mscan\u001B[49m\u001B[43m(\u001B[49m\u001B[43mstep\u001B[49m\u001B[43m,\u001B[49m\u001B[43m \u001B[49m\u001B[43m(\u001B[49m\u001B[43mplaq_dict\u001B[49m\u001B[43m,\u001B[49m\u001B[43m \u001B[49m\u001B[43mPr0\u001B[49m\u001B[43m)\u001B[49m\u001B[43m,\u001B[49m\u001B[43m \u001B[49m\u001B[43mjax\u001B[49m\u001B[38;5;241;43m.\u001B[39;49m\u001B[43mrandom\u001B[49m\u001B[38;5;241;43m.\u001B[39;49m\u001B[43msplit\u001B[49m\u001B[43m(\u001B[49m\u001B[43mkeym\u001B[49m\u001B[43m,\u001B[49m\u001B[43m \u001B[49m\u001B[43mnum_samples\u001B[49m\u001B[43m)\u001B[49m\u001B[43m)\u001B[49m\n\u001B[0;32m     41\u001B[0m \u001B[38;5;28;01mreturn\u001B[39;00m final_config, jnp\u001B[38;5;241m.\u001B[39mconcatenate((jnp\u001B[38;5;241m.\u001B[39marray([w0]), w_scan))\n",
      "    \u001B[1;31m[... skipping hidden 9 frame]\u001B[0m\n",
      "Cell \u001B[1;32mIn[106], line 30\u001B[0m, in \u001B[0;36mmake_metropolis.<locals>.metropolis_step.<locals>.step\u001B[1;34m(carry, r_key)\u001B[0m\n\u001B[0;32m     28\u001B[0m \u001B[38;5;28;01melse\u001B[39;00m:\n\u001B[0;32m     29\u001B[0m     candidate \u001B[38;5;241m=\u001B[39m flip_one(config, n, kind)\n\u001B[1;32m---> 30\u001B[0m Pr_cand \u001B[38;5;241m=\u001B[39m \u001B[43mPr_func\u001B[49m\u001B[43m(\u001B[49m\u001B[43mn\u001B[49m\u001B[43m,\u001B[49m\u001B[43m \u001B[49m\u001B[43mcandidate\u001B[49m\u001B[43m,\u001B[49m\u001B[43m \u001B[49m\u001B[43mplaq\u001B[49m\u001B[43m,\u001B[49m\u001B[43m \u001B[49m\u001B[43mp\u001B[49m\u001B[43m)\u001B[49m\n\u001B[0;32m     31\u001B[0m \u001B[38;5;66;03m# accept with Metropolis criterion\u001B[39;00m\n\u001B[0;32m     32\u001B[0m accept \u001B[38;5;241m=\u001B[39m jax\u001B[38;5;241m.\u001B[39mrandom\u001B[38;5;241m.\u001B[39muniform(k2) \u001B[38;5;241m<\u001B[39m (Pr_cand \u001B[38;5;241m/\u001B[39m Pr_prev)\n",
      "Cell \u001B[1;32mIn[104], line 2\u001B[0m, in \u001B[0;36mPr_m_B_func\u001B[1;34m(n, plaq_dict, plaq, p)\u001B[0m\n\u001B[0;32m      1\u001B[0m \u001B[38;5;28;01mdef\u001B[39;00m \u001B[38;5;21mPr_m_B_func\u001B[39m(n, plaq_dict, plaq, p):\n\u001B[1;32m----> 2\u001B[0m     ini_tensor \u001B[38;5;241m=\u001B[39m \u001B[43mprocess_initial_BC\u001B[49m\u001B[43m(\u001B[49m\u001B[43mn\u001B[49m\u001B[43m,\u001B[49m\u001B[43m \u001B[49m\u001B[43mplaq_dict\u001B[49m\u001B[43m[\u001B[49m\u001B[38;5;241;43m0\u001B[39;49m\u001B[43m]\u001B[49m\u001B[43m,\u001B[49m\u001B[43m \u001B[49m\u001B[43mplaq\u001B[49m\u001B[43m[\u001B[49m\u001B[38;5;241;43m0\u001B[39;49m\u001B[43m]\u001B[49m\u001B[43m,\u001B[49m\u001B[43m \u001B[49m\u001B[43mp\u001B[49m\u001B[43m)\u001B[49m\n\u001B[0;32m      3\u001B[0m     \u001B[38;5;28;01mfor\u001B[39;00m i \u001B[38;5;129;01min\u001B[39;00m \u001B[38;5;28mrange\u001B[39m(\u001B[38;5;241m1\u001B[39m, n\u001B[38;5;241m-\u001B[39m\u001B[38;5;241m2\u001B[39m):\n\u001B[0;32m      4\u001B[0m         ini_tensor \u001B[38;5;241m=\u001B[39m process_column_BC(n, plaq_dict[i], plaq[i], p, ini_tensor)\n",
      "Cell \u001B[1;32mIn[98], line 39\u001B[0m, in \u001B[0;36mprocess_initial_BC\u001B[1;34m(n, plaq_dict, plaq, p)\u001B[0m\n\u001B[0;32m     37\u001B[0m label \u001B[38;5;241m=\u001B[39m string\u001B[38;5;241m.\u001B[39mascii_letters\n\u001B[0;32m     38\u001B[0m \u001B[38;5;66;03m# Initialize the tensor list.\u001B[39;00m\n\u001B[1;32m---> 39\u001B[0m tensor_list \u001B[38;5;241m=\u001B[39m \u001B[43minitial_top_BC\u001B[49m\u001B[43m(\u001B[49m\u001B[43mn\u001B[49m\u001B[43m,\u001B[49m\u001B[43m \u001B[49m\u001B[43mplaq_dict\u001B[49m\u001B[43m,\u001B[49m\u001B[43m \u001B[49m\u001B[43mplaq\u001B[49m\u001B[43m,\u001B[49m\u001B[43m \u001B[49m\u001B[43mp\u001B[49m\u001B[43m)\u001B[49m\n\u001B[0;32m     41\u001B[0m \u001B[38;5;66;03m# Left boundary tensor: shape (2,2) → assign indices: [bottom_label[0], virtual_label[0]]\u001B[39;00m\n\u001B[0;32m     42\u001B[0m top_term \u001B[38;5;241m=\u001B[39m label[\u001B[38;5;241m0\u001B[39m]\u001B[38;5;241m+\u001B[39mlabel[n \u001B[38;5;241m-\u001B[39m \u001B[38;5;241m2\u001B[39m] \n",
      "Cell \u001B[1;32mIn[98], line 10\u001B[0m, in \u001B[0;36minitial_top_BC\u001B[1;34m(n, plaq_dict, plaq, p)\u001B[0m\n\u001B[0;32m      7\u001B[0m tensor_list \u001B[38;5;241m=\u001B[39m []\n\u001B[0;32m      9\u001B[0m m \u001B[38;5;241m=\u001B[39m plaq_dict[plaq[\u001B[38;5;241m0\u001B[39m]]\n\u001B[1;32m---> 10\u001B[0m tensor_list\u001B[38;5;241m.\u001B[39mappend(\u001B[43mcorner_tensor\u001B[49m\u001B[43m(\u001B[49m\u001B[43mm\u001B[49m\u001B[43m,\u001B[49m\u001B[43m \u001B[49m\u001B[43mp\u001B[49m\u001B[43m)\u001B[49m)  \u001B[38;5;66;03m# left boundary, shape (2,2)\u001B[39;00m\n\u001B[0;32m     11\u001B[0m \u001B[38;5;28;01mfor\u001B[39;00m i \u001B[38;5;129;01min\u001B[39;00m \u001B[38;5;28mrange\u001B[39m(n \u001B[38;5;241m-\u001B[39m \u001B[38;5;241m4\u001B[39m):\n\u001B[0;32m     12\u001B[0m     m \u001B[38;5;241m=\u001B[39m plaq_dict[plaq[i\u001B[38;5;241m+\u001B[39m\u001B[38;5;241m1\u001B[39m]]\n",
      "File \u001B[1;32m~\\PycharmProjects\\UIUC_test\\util.py:416\u001B[0m, in \u001B[0;36mcorner_tensor\u001B[1;34m(m, p)\u001B[0m\n\u001B[0;32m    414\u001B[0m \u001B[38;5;28;01mdef\u001B[39;00m \u001B[38;5;21mcorner_tensor\u001B[39m(m, p):\n\u001B[0;32m    415\u001B[0m     tensor_list \u001B[38;5;241m=\u001B[39m []\n\u001B[1;32m--> 416\u001B[0m     Q \u001B[38;5;241m=\u001B[39m \u001B[43mQ_tensor\u001B[49m\u001B[43m(\u001B[49m\u001B[43mm\u001B[49m\u001B[43m)\u001B[49m\n\u001B[0;32m    417\u001B[0m     T \u001B[38;5;241m=\u001B[39m T_tensor(p)\n\u001B[0;32m    418\u001B[0m     bT \u001B[38;5;241m=\u001B[39m boundary_T_tensor(p)\n",
      "File \u001B[1;32m~\\PycharmProjects\\UIUC_test\\util.py:370\u001B[0m, in \u001B[0;36mQ_tensor\u001B[1;34m(m)\u001B[0m\n\u001B[0;32m    368\u001B[0m                 parity \u001B[38;5;241m=\u001B[39m (s1 \u001B[38;5;241m+\u001B[39m s2 \u001B[38;5;241m+\u001B[39m s3 \u001B[38;5;241m+\u001B[39m s4) \u001B[38;5;241m%\u001B[39m \u001B[38;5;241m2\u001B[39m\n\u001B[0;32m    369\u001B[0m                 \u001B[38;5;66;03m# If parity matches the anyon measurement, set entry to 1.\u001B[39;00m\n\u001B[1;32m--> 370\u001B[0m                 value \u001B[38;5;241m=\u001B[39m \u001B[38;5;241m1\u001B[39m \u001B[38;5;28;01mif\u001B[39;00m \u001B[43mparity\u001B[49m\u001B[43m \u001B[49m\u001B[38;5;241;43m==\u001B[39;49m\u001B[43m \u001B[49m\u001B[43mm\u001B[49m \u001B[38;5;28;01melse\u001B[39;00m \u001B[38;5;241m0\u001B[39m\n\u001B[0;32m    371\u001B[0m                 Q \u001B[38;5;241m=\u001B[39m Q\u001B[38;5;241m.\u001B[39mat[s1, s2, s3, s4]\u001B[38;5;241m.\u001B[39mset(value)\n\u001B[0;32m    372\u001B[0m \u001B[38;5;28;01mreturn\u001B[39;00m Q\n",
      "    \u001B[1;31m[... skipping hidden 1 frame]\u001B[0m\n",
      "File \u001B[1;32m~\\PycharmProjects\\UIUC_test\\.venv\\lib\\site-packages\\jax\\_src\\core.py:1517\u001B[0m, in \u001B[0;36mconcretization_function_error.<locals>.error\u001B[1;34m(self, arg)\u001B[0m\n\u001B[0;32m   1516\u001B[0m \u001B[38;5;28;01mdef\u001B[39;00m \u001B[38;5;21merror\u001B[39m(\u001B[38;5;28mself\u001B[39m, arg):\n\u001B[1;32m-> 1517\u001B[0m   \u001B[38;5;28;01mraise\u001B[39;00m TracerBoolConversionError(arg)\n",
      "\u001B[1;31mTracerBoolConversionError\u001B[0m: Attempted boolean conversion of traced array with shape bool[]..\nThe error occurred while tracing the function step at C:\\Users\\Administrator\\AppData\\Local\\Temp\\ipykernel_32880\\2635678145.py:23 for scan. This concrete value was not available in Python because it depends on the value of the argument carry[0][0][(1, 6)].\nSee https://jax.readthedocs.io/en/latest/errors.html#jax.errors.TracerBoolConversionError"
     ]
    }
   ],
   "source": [
    "p = 0.1\n",
    "num_samples = 3\n",
    "keyB, keyBC, keyAC, keyABC = jax.random.PRNGKey(0), jax.random.PRNGKey(1), jax.random.PRNGKey(2), jax.random.PRNGKey(3)\n",
    "w_b, w_bc, w_ac, w_abc = [], [], [], []\n",
    "\n",
    "B_sampler = make_metropolis(Pr_m_B_func, plaq_B, \"B\")\n",
    "BC_sampler = make_metropolis(Pr_m_BC_func, plaq_BC, \"BC\")\n",
    "AC_sampler = make_metropolis(Pr_m_AC_func, plaq_AC, \"AC\")\n",
    "ABC_sampler = make_metropolis(Pr_m_ABC_func, plaq_ABC, \"ABC\")\n",
    "\n",
    "plaq_B_dict,  w_b  = B_sampler(n, plaq_B_dict, p, num_samples, keyB)\n",
    "plaq_BC_dict, w_bc = BC_sampler(n, plaq_BC_dict, p, num_samples, keyBC)\n",
    "plaq_AC_dict, w_ac = AC_sampler(n, plaq_AC_dict, p, num_samples, keyAC)\n",
    "plaq_ABC_dict, w_abc = ABC_sampler(n, plaq_ABC_dict, p, num_samples, keyABC)\n",
    "\n",
    "CMI = jnp.sum(jnp.array(w_ac) + jnp.array(w_bc) - jnp.array(w_abc) - jnp.array(w_b))"
   ],
   "metadata": {
    "collapsed": false,
    "ExecuteTime": {
     "end_time": "2025-04-17T22:18:57.290800Z",
     "start_time": "2025-04-17T22:18:57.053256Z"
    }
   },
   "id": "8ec102584edf806a",
   "execution_count": 107
  },
  {
   "cell_type": "code",
   "outputs": [
    {
     "data": {
      "text/plain": "Array([[[[0., 1.],\n         [1., 0.]],\n\n        [[1., 0.],\n         [0., 1.]]],\n\n\n       [[[1., 0.],\n         [0., 1.]],\n\n        [[0., 1.],\n         [1., 0.]]]], dtype=float64)"
     },
     "execution_count": 108,
     "metadata": {},
     "output_type": "execute_result"
    }
   ],
   "source": [
    "Q_tensor(1)"
   ],
   "metadata": {
    "collapsed": false,
    "ExecuteTime": {
     "end_time": "2025-04-17T22:27:20.276883Z",
     "start_time": "2025-04-17T22:27:20.258014Z"
    }
   },
   "id": "9ad4ba43ef5d894d",
   "execution_count": 108
  },
  {
   "cell_type": "code",
   "outputs": [
    {
     "data": {
      "text/plain": "[[(1, 6), (2, 6), (3, 6)], [(1, 7), (2, 7), (3, 7)], [(1, 8), (2, 8), (3, 8)]]"
     },
     "execution_count": 77,
     "metadata": {},
     "output_type": "execute_result"
    }
   ],
   "source": [
    "plaq_B"
   ],
   "metadata": {
    "collapsed": false,
    "ExecuteTime": {
     "end_time": "2025-04-17T22:12:29.747004Z",
     "start_time": "2025-04-17T22:12:29.733050Z"
    }
   },
   "id": "433fe3e60c23e1a7",
   "execution_count": 77
  },
  {
   "metadata": {},
   "cell_type": "code",
   "outputs": [],
   "execution_count": null,
   "source": [
    "a = 0\n",
    "'''\n",
    "def make_metropolis(Pr_func, plaq, kind):\n",
    "    #@partial(jax.jit, static_argnums=(0, ))\n",
    "    def metropolis_step(n, plaq_dict, p, num_samples, keym):\n",
    "        \"\"\"\n",
    "        Perform `num_samples` Metropolis updates on `plaq_dict`.\n",
    "\n",
    "        Args:\n",
    "          n             : system size\n",
    "          plaq_dict     : current configuration (dict-of-dicts)\n",
    "          Pr_func       : function signature Pr = Pr_func(n, config, plaq, p)\n",
    "          plaq          : any auxiliary data needed by Pr_func\n",
    "          p             : model parameter\n",
    "          num_samples   : how many proposed flips to attempt\n",
    "\n",
    "        Returns:\n",
    "          plaq_dict_new : updated configuration after all steps\n",
    "          w_list        : list of log‑probabilities at each step (length num_samples+1)\n",
    "        \"\"\"\n",
    "        print(\"plaq_dict_m\", plaq_dict)\n",
    "        Pr0 = Pr_func(n, plaq_dict, plaq, p)\n",
    "        w0 = jnp.log(Pr0)\n",
    "\n",
    "        def step(carry, r_key):\n",
    "            config, Pr_prev = carry\n",
    "            k1, k2 = jax.random.split(r_key)\n",
    "            if kind in (\"B\", \"BC\"):\n",
    "                candidate = flip_one_free(config)\n",
    "            else:\n",
    "                candidate = flip_one(config, n, kind)\n",
    "            Pr_cand = Pr_func(n, candidate, plaq, p)\n",
    "            # accept with Metropolis criterion\n",
    "            accept = jax.random.uniform(k2) < (Pr_cand / Pr_prev)\n",
    "            new_config = lax.select(accept, candidate, config)\n",
    "            new_Pr = lax.select(accept, Pr_cand, Pr_prev)\n",
    "\n",
    "            w = jnp.log(new_Pr)\n",
    "            return (new_config, new_Pr), w\n",
    "\n",
    "        (final_config, _), w_scan = lax.scan(step, (plaq_dict, Pr0), jax.random.split(keym, num_samples))\n",
    "\n",
    "        return final_config, jnp.concatenate((jnp.array([w0]), w_scan))\n",
    "    return metropolis_step\n",
    "'''\n",
    "b = 0"
   ],
   "id": "c4af85b09e9d0a6c"
  },
  {
   "cell_type": "code",
   "outputs": [],
   "source": [
    "'''\n",
    "def H_B_tensor(n, plaq, p):\n",
    "    label = string.ascii_letters\n",
    "    tensor1 = incomplete_tensor(plaq_dict[plaq[0, 0]], p)\n",
    "    term1 = label[0] + label[n - 2] + label[2*(n-2)]\n",
    "    for i in range(n-4):\n",
    "        tensor2 = full_tensor(plaq_dict[plaq[0, i+1]], p)\n",
    "        term2 = label[i+1] + label[2*(n-2)]  + label[n - 2 + i + 1] + label[2*(n-2) + 1]\n",
    "        output_str = label[:i+1] + label[n-2:n+i+2] + label[2*(n-2)+1]\n",
    "        einsum_str = term1 + \",\" + term2 + \"->\" + output_str\n",
    "        tensor1 = jnp.einsum(einsum_str, tensor1, tensor2)\n",
    "        term1 = label[:i+1] + label[n-2:n+i+2] + label[2*(n-2)]\n",
    "    tensor2 = incomplete_tensor(plaq_dict[plaq[0, n-3]])\n",
    "    term2 = label[n-3] + label[2*(n-2)] + label[2*(n-2) - 1]\n",
    "    output_str = label[:2*(n-2)]\n",
    "    einsum_str = term1 + \",\" + term2 + \"->\" + output_str\n",
    "    tensor1 = jnp.einsum(einsum_str, tensor1, tensor2)\n",
    "    for i in range(1, n):\n",
    "        tensor1 = process_column(n, plaq[i], p, tensor1)\n",
    "    return tensor1\n",
    "'''"
   ],
   "metadata": {
    "collapsed": false
   },
   "id": "8ebdc9fa615a3de9",
   "execution_count": null
  },
  {
   "cell_type": "code",
   "outputs": [],
   "source": [
    "'''\n",
    "all_plaq = list(chain(\n",
    "    ((r, c) for r in range(1, n-1) for c in range(n, 2*n)), # top middle\n",
    "    ((2*n + r, c) for r in range(1, n-1) for c in range(n, 2*n)),  # bottom middle\n",
    "    ((r, c) for r in range(n, 2*n) for c in range(1, n-1)),\n",
    "    ((r, 2*n+c) for r in range(n, 2*n) for c in range(1, n-1)),\n",
    "    ((r, n-r+c) for r in range(n) for c in range(r)),\n",
    "    ((r, 2*n+c) for r in range(n) for c in range(r)),\n",
    "    ((2*n+r, c) for c in range(n) for r in range(c)),  \n",
    "    ((2*n+r, 2*n+c) for c in range(n) for r in range(n-c-1)),\n",
    "    ((n-1, n+c) for c in range(n)),\n",
    "    ((2*n, n+c) for c in range(n)),\n",
    "    ((n+r, n-1) for r in range(n)),\n",
    "    ((n+r, 2*n) for r in range(n)),\n",
    "))\n",
    "plaq_dict = {key: 0. for key in all_plaq}\n",
    "\n",
    "print(\"all_plaq:\", all_plaq)\n",
    "def region_plaquettes(regionEdges, all_plaq):\n",
    "    \"\"\"\n",
    "    For a given set of allowed edges (regionE\n",
    "    dges), return the list of plaquettes\n",
    "    (by their top-left coordinate) that are partially contained in the region.\n",
    "    \"\"\"\n",
    "    plaq = []\n",
    "    for (r, c) in all_plaq:\n",
    "        edges = [((r, c), 'H'),\n",
    "                 ((r+1, c), 'H'),\n",
    "                 ((r, c), 'V'),\n",
    "                 ((r, c+1), 'V')]\n",
    "        if all(e in regionEdges for e in edges):\n",
    "            plaq.append((r, c))\n",
    "    return plaq\n",
    "'''"
   ],
   "metadata": {
    "collapsed": false
   },
   "id": "9ee5dcac202c32e2",
   "execution_count": null
  }
 ],
 "metadata": {
  "kernelspec": {
   "display_name": "Python 3",
   "language": "python",
   "name": "python3"
  },
  "language_info": {
   "codemirror_mode": {
    "name": "ipython",
    "version": 2
   },
   "file_extension": ".py",
   "mimetype": "text/x-python",
   "name": "python",
   "nbconvert_exporter": "python",
   "pygments_lexer": "ipython2",
   "version": "2.7.6"
  }
 },
 "nbformat": 4,
 "nbformat_minor": 5
}
